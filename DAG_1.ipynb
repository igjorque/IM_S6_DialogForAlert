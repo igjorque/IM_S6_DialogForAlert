{
  "nbformat": 4,
  "nbformat_minor": 0,
  "metadata": {
    "colab": {
      "name": "DAG_1.ipynb",
      "provenance": [],
      "include_colab_link": true
    },
    "kernelspec": {
      "name": "python3",
      "display_name": "Python 3"
    },
    "language_info": {
      "name": "python"
    },
    "accelerator": "GPU"
  },
  "cells": [
    {
      "cell_type": "markdown",
      "metadata": {
        "id": "view-in-github",
        "colab_type": "text"
      },
      "source": [
        "<a href=\"https://colab.research.google.com/github/igjorque/IM_S6_DialogForAlert/blob/master/DAG_1.ipynb\" target=\"_parent\"><img src=\"https://colab.research.google.com/assets/colab-badge.svg\" alt=\"Open In Colab\"/></a>"
      ]
    },
    {
      "cell_type": "markdown",
      "metadata": {
        "id": "_7P_CxNXA8Cj"
      },
      "source": [
        "## Descarga e instalación"
      ]
    },
    {
      "cell_type": "markdown",
      "metadata": {
        "id": "5_yX-toJAEHh"
      },
      "source": [
        "Para esta actividad, he escogido el siguiente dataset:"
      ]
    },
    {
      "cell_type": "markdown",
      "metadata": {
        "id": "eS6bk9fIQNcL"
      },
      "source": [
        "https://www.kaggle.com/deepak711/4-subject-data-text-classification"
      ]
    },
    {
      "cell_type": "markdown",
      "metadata": {
        "id": "io_akFu8AO7_"
      },
      "source": [
        "El objetivo con el mismo es el de clasificar asignaturas/temas. Sin embargo, del mismo sólo he mantenido tres: Computer_Science, History y Maths. El dataset cuenta además con datos para Biology, Geography y Physics."
      ]
    },
    {
      "cell_type": "markdown",
      "metadata": {
        "id": "4AoFBtqVBIxz"
      },
      "source": [
        "A continuación, descargamos los datos de Google Drive y los descomprimimos:"
      ]
    },
    {
      "cell_type": "code",
      "metadata": {
        "colab": {
          "base_uri": "https://localhost:8080/"
        },
        "id": "9TsbkNoWyg5u",
        "outputId": "1ac6bd87-378a-4ffa-dbf0-b7a32fe74a6e"
      },
      "source": [
        "!gdown --id 1fE2IzrCoXLx4UvBERfZyi3VM2M_EOkZy"
      ],
      "execution_count": null,
      "outputs": [
        {
          "output_type": "stream",
          "text": [
            "Downloading...\n",
            "From: https://drive.google.com/uc?id=1fE2IzrCoXLx4UvBERfZyi3VM2M_EOkZy\n",
            "To: /content/Data.zip\n",
            "\r0.00B [00:00, ?B/s]\r2.14MB [00:00, 68.6MB/s]\n"
          ],
          "name": "stdout"
        }
      ]
    },
    {
      "cell_type": "code",
      "metadata": {
        "colab": {
          "base_uri": "https://localhost:8080/"
        },
        "id": "fkywlaCsQmyZ",
        "outputId": "01f6af06-42b4-41d7-e948-c665c6255461"
      },
      "source": [
        "!unzip Data"
      ],
      "execution_count": null,
      "outputs": [
        {
          "output_type": "stream",
          "text": [
            "Archive:  Data.zip\n",
            "   creating: Data/\n",
            "   creating: Data/Computer_Science/\n",
            "  inflating: Data/Computer_Science/Computer_Science100.txt  \n",
            "  inflating: Data/Computer_Science/Computer_Science101.txt  \n",
            "  inflating: Data/Computer_Science/Computer_Science102.txt  \n",
            "  inflating: Data/Computer_Science/Computer_Science103.txt  \n",
            "  inflating: Data/Computer_Science/Computer_Science104.txt  \n",
            "  inflating: Data/Computer_Science/Computer_Science105.txt  \n",
            "  inflating: Data/Computer_Science/Computer_Science106.txt  \n",
            "  inflating: Data/Computer_Science/Computer_Science107.txt  \n",
            "  inflating: Data/Computer_Science/Computer_Science108.txt  \n",
            "  inflating: Data/Computer_Science/Computer_Science109.txt  \n",
            "  inflating: Data/Computer_Science/Computer_Science110.txt  \n",
            "  inflating: Data/Computer_Science/Computer_Science111.txt  \n",
            "  inflating: Data/Computer_Science/Computer_Science112.txt  \n",
            "  inflating: Data/Computer_Science/Computer_Science113.txt  \n",
            "  inflating: Data/Computer_Science/Computer_Science114.txt  \n",
            "  inflating: Data/Computer_Science/Computer_Science115.txt  \n",
            "  inflating: Data/Computer_Science/Computer_Science116.txt  \n",
            "  inflating: Data/Computer_Science/Computer_Science117.txt  \n",
            "  inflating: Data/Computer_Science/Computer_Science118.txt  \n",
            "  inflating: Data/Computer_Science/Computer_Science119.txt  \n",
            "  inflating: Data/Computer_Science/Computer_Science120.txt  \n",
            "  inflating: Data/Computer_Science/Computer_Science121.txt  \n",
            "  inflating: Data/Computer_Science/Computer_Science122.txt  \n",
            "  inflating: Data/Computer_Science/Computer_Science123.txt  \n",
            "  inflating: Data/Computer_Science/Computer_Science124.txt  \n",
            "  inflating: Data/Computer_Science/Computer_Science125.txt  \n",
            "  inflating: Data/Computer_Science/Computer_Science126.txt  \n",
            "  inflating: Data/Computer_Science/Computer_Science127.txt  \n",
            "  inflating: Data/Computer_Science/Computer_Science128.txt  \n",
            "  inflating: Data/Computer_Science/Computer_Science129.txt  \n",
            "  inflating: Data/Computer_Science/Computer_Science130.txt  \n",
            "  inflating: Data/Computer_Science/Computer_Science131.txt  \n",
            "  inflating: Data/Computer_Science/Computer_Science132.txt  \n",
            "  inflating: Data/Computer_Science/Computer_Science133.txt  \n",
            "  inflating: Data/Computer_Science/Computer_Science134.txt  \n",
            "  inflating: Data/Computer_Science/Computer_Science135.txt  \n",
            "  inflating: Data/Computer_Science/Computer_Science136.txt  \n",
            "  inflating: Data/Computer_Science/Computer_Science137.txt  \n",
            "  inflating: Data/Computer_Science/Computer_Science138.txt  \n",
            "  inflating: Data/Computer_Science/Computer_Science139.txt  \n",
            "  inflating: Data/Computer_Science/Computer_Science140.txt  \n",
            "  inflating: Data/Computer_Science/Computer_Science141.txt  \n",
            "  inflating: Data/Computer_Science/Computer_Science142.txt  \n",
            "  inflating: Data/Computer_Science/Computer_Science143.txt  \n",
            "  inflating: Data/Computer_Science/Computer_Science144.txt  \n",
            "  inflating: Data/Computer_Science/Computer_Science145.txt  \n",
            "  inflating: Data/Computer_Science/Computer_Science146.txt  \n",
            "  inflating: Data/Computer_Science/Computer_Science147.txt  \n",
            "  inflating: Data/Computer_Science/Computer_Science148.txt  \n",
            "  inflating: Data/Computer_Science/Computer_Science149.txt  \n",
            "  inflating: Data/Computer_Science/Computer_Science150.txt  \n",
            "  inflating: Data/Computer_Science/Computer_Science151.txt  \n",
            "  inflating: Data/Computer_Science/Computer_Science152.txt  \n",
            "  inflating: Data/Computer_Science/Computer_Science153.txt  \n",
            "  inflating: Data/Computer_Science/Computer_Science154.txt  \n",
            "  inflating: Data/Computer_Science/Computer_Science155.txt  \n",
            "  inflating: Data/Computer_Science/Computer_Science156.txt  \n",
            "  inflating: Data/Computer_Science/Computer_Science157.txt  \n",
            "  inflating: Data/Computer_Science/Computer_Science158.txt  \n",
            "  inflating: Data/Computer_Science/Computer_Science159.txt  \n",
            "  inflating: Data/Computer_Science/Computer_Science160.txt  \n",
            "  inflating: Data/Computer_Science/Computer_Science161.txt  \n",
            "  inflating: Data/Computer_Science/Computer_Science162.txt  \n",
            "  inflating: Data/Computer_Science/Computer_Science163.txt  \n",
            "  inflating: Data/Computer_Science/Computer_Science164.txt  \n",
            "  inflating: Data/Computer_Science/Computer_Science165.txt  \n",
            "  inflating: Data/Computer_Science/Computer_Science166.txt  \n",
            "  inflating: Data/Computer_Science/Computer_Science167.txt  \n",
            "  inflating: Data/Computer_Science/Computer_Science168.txt  \n",
            "  inflating: Data/Computer_Science/Computer_Science169.txt  \n",
            "  inflating: Data/Computer_Science/Computer_Science170.txt  \n",
            " extracting: Data/Computer_Science/Computer_Science171.txt  \n",
            "  inflating: Data/Computer_Science/Computer_Science172.txt  \n",
            "  inflating: Data/Computer_Science/Computer_Science173.txt  \n",
            "  inflating: Data/Computer_Science/Computer_Science174.txt  \n",
            "  inflating: Data/Computer_Science/Computer_Science175.txt  \n",
            "  inflating: Data/Computer_Science/Computer_Science176.txt  \n",
            "  inflating: Data/Computer_Science/Computer_Science177.txt  \n",
            "  inflating: Data/Computer_Science/Computer_Science178.txt  \n",
            "  inflating: Data/Computer_Science/Computer_Science179.txt  \n",
            "  inflating: Data/Computer_Science/Computer_Science180.txt  \n",
            "  inflating: Data/Computer_Science/Computer_Science181.txt  \n",
            "  inflating: Data/Computer_Science/Computer_Science182.txt  \n",
            "  inflating: Data/Computer_Science/Computer_Science183.txt  \n",
            "  inflating: Data/Computer_Science/Computer_Science184.txt  \n",
            "  inflating: Data/Computer_Science/Computer_Science185.txt  \n",
            "  inflating: Data/Computer_Science/Computer_Science186.txt  \n",
            "  inflating: Data/Computer_Science/Computer_Science187.txt  \n",
            "  inflating: Data/Computer_Science/Computer_Science188.txt  \n",
            "  inflating: Data/Computer_Science/Computer_Science189.txt  \n",
            "  inflating: Data/Computer_Science/Computer_Science190.txt  \n",
            "  inflating: Data/Computer_Science/Computer_Science191.txt  \n",
            "  inflating: Data/Computer_Science/Computer_Science192.txt  \n",
            "  inflating: Data/Computer_Science/Computer_Science193.txt  \n",
            "  inflating: Data/Computer_Science/Computer_Science194.txt  \n",
            "  inflating: Data/Computer_Science/Computer_Science195.txt  \n",
            "  inflating: Data/Computer_Science/Computer_Science196.txt  \n",
            "  inflating: Data/Computer_Science/Computer_Science197.txt  \n",
            "  inflating: Data/Computer_Science/Computer_Science198.txt  \n",
            "  inflating: Data/Computer_Science/Computer_Science199.txt  \n",
            "  inflating: Data/Computer_Science/Computer_Science20.txt  \n",
            "  inflating: Data/Computer_Science/Computer_Science200.txt  \n",
            "  inflating: Data/Computer_Science/Computer_Science201.txt  \n",
            "  inflating: Data/Computer_Science/Computer_Science202.txt  \n",
            "  inflating: Data/Computer_Science/Computer_Science203.txt  \n",
            "  inflating: Data/Computer_Science/Computer_Science204.txt  \n",
            "  inflating: Data/Computer_Science/Computer_Science205.txt  \n",
            "  inflating: Data/Computer_Science/Computer_Science206.txt  \n",
            "  inflating: Data/Computer_Science/Computer_Science207.txt  \n",
            "  inflating: Data/Computer_Science/Computer_Science208.txt  \n",
            "  inflating: Data/Computer_Science/Computer_Science209.txt  \n",
            "  inflating: Data/Computer_Science/Computer_Science21.txt  \n",
            "  inflating: Data/Computer_Science/Computer_Science210.txt  \n",
            "  inflating: Data/Computer_Science/Computer_Science211.txt  \n",
            "  inflating: Data/Computer_Science/Computer_Science212.txt  \n",
            "  inflating: Data/Computer_Science/Computer_Science213.txt  \n",
            "  inflating: Data/Computer_Science/Computer_Science214.txt  \n",
            "  inflating: Data/Computer_Science/Computer_Science215.txt  \n",
            "  inflating: Data/Computer_Science/Computer_Science216.txt  \n",
            "  inflating: Data/Computer_Science/Computer_Science217.txt  \n",
            "  inflating: Data/Computer_Science/Computer_Science218.txt  \n",
            "  inflating: Data/Computer_Science/Computer_Science219.txt  \n",
            "  inflating: Data/Computer_Science/Computer_Science22.txt  \n",
            "  inflating: Data/Computer_Science/Computer_Science220.txt  \n",
            "  inflating: Data/Computer_Science/Computer_Science221.txt  \n",
            "  inflating: Data/Computer_Science/Computer_Science222.txt  \n",
            "  inflating: Data/Computer_Science/Computer_Science223.txt  \n",
            "  inflating: Data/Computer_Science/Computer_Science224.txt  \n",
            "  inflating: Data/Computer_Science/Computer_Science225.txt  \n",
            "  inflating: Data/Computer_Science/Computer_Science226.txt  \n",
            "  inflating: Data/Computer_Science/Computer_Science227.txt  \n",
            "  inflating: Data/Computer_Science/Computer_Science228.txt  \n",
            "  inflating: Data/Computer_Science/Computer_Science229.txt  \n",
            "  inflating: Data/Computer_Science/Computer_Science23.txt  \n",
            "  inflating: Data/Computer_Science/Computer_Science230.txt  \n",
            "  inflating: Data/Computer_Science/Computer_Science231.txt  \n",
            "  inflating: Data/Computer_Science/Computer_Science232.txt  \n",
            "  inflating: Data/Computer_Science/Computer_Science233.txt  \n",
            "  inflating: Data/Computer_Science/Computer_Science234.txt  \n",
            "  inflating: Data/Computer_Science/Computer_Science235.txt  \n",
            "  inflating: Data/Computer_Science/Computer_Science236.txt  \n",
            "  inflating: Data/Computer_Science/Computer_Science237.txt  \n",
            "  inflating: Data/Computer_Science/Computer_Science238.txt  \n",
            "  inflating: Data/Computer_Science/Computer_Science239.txt  \n",
            "  inflating: Data/Computer_Science/Computer_Science24.txt  \n",
            "  inflating: Data/Computer_Science/Computer_Science240.txt  \n",
            "  inflating: Data/Computer_Science/Computer_Science241.txt  \n",
            "  inflating: Data/Computer_Science/Computer_Science242.txt  \n",
            "  inflating: Data/Computer_Science/Computer_Science243.txt  \n",
            "  inflating: Data/Computer_Science/Computer_Science244.txt  \n",
            "  inflating: Data/Computer_Science/Computer_Science245.txt  \n",
            "  inflating: Data/Computer_Science/Computer_Science246.txt  \n",
            "  inflating: Data/Computer_Science/Computer_Science247.txt  \n",
            "  inflating: Data/Computer_Science/Computer_Science248.txt  \n",
            "  inflating: Data/Computer_Science/Computer_Science249.txt  \n",
            "  inflating: Data/Computer_Science/Computer_Science25.txt  \n",
            "  inflating: Data/Computer_Science/Computer_Science250.txt  \n",
            " extracting: Data/Computer_Science/Computer_Science251.txt  \n",
            "  inflating: Data/Computer_Science/Computer_Science252.txt  \n",
            "  inflating: Data/Computer_Science/Computer_Science253.txt  \n",
            "  inflating: Data/Computer_Science/Computer_Science254.txt  \n",
            "  inflating: Data/Computer_Science/Computer_Science255.txt  \n",
            "  inflating: Data/Computer_Science/Computer_Science256.txt  \n",
            "  inflating: Data/Computer_Science/Computer_Science257.txt  \n",
            "  inflating: Data/Computer_Science/Computer_Science258.txt  \n",
            "  inflating: Data/Computer_Science/Computer_Science259.txt  \n",
            "  inflating: Data/Computer_Science/Computer_Science26.txt  \n",
            "  inflating: Data/Computer_Science/Computer_Science260.txt  \n",
            "  inflating: Data/Computer_Science/Computer_Science261.txt  \n",
            "  inflating: Data/Computer_Science/Computer_Science262.txt  \n",
            "  inflating: Data/Computer_Science/Computer_Science263.txt  \n",
            "  inflating: Data/Computer_Science/Computer_Science264.txt  \n",
            "  inflating: Data/Computer_Science/Computer_Science265.txt  \n",
            "  inflating: Data/Computer_Science/Computer_Science266.txt  \n",
            "  inflating: Data/Computer_Science/Computer_Science267.txt  \n",
            "  inflating: Data/Computer_Science/Computer_Science268.txt  \n",
            "  inflating: Data/Computer_Science/Computer_Science269.txt  \n",
            "  inflating: Data/Computer_Science/Computer_Science27.txt  \n",
            "  inflating: Data/Computer_Science/Computer_Science270.txt  \n",
            "  inflating: Data/Computer_Science/Computer_Science271.txt  \n",
            "  inflating: Data/Computer_Science/Computer_Science272.txt  \n",
            "  inflating: Data/Computer_Science/Computer_Science273.txt  \n",
            "  inflating: Data/Computer_Science/Computer_Science274.txt  \n",
            "  inflating: Data/Computer_Science/Computer_Science275.txt  \n",
            "  inflating: Data/Computer_Science/Computer_Science276.txt  \n",
            "  inflating: Data/Computer_Science/Computer_Science277.txt  \n",
            "  inflating: Data/Computer_Science/Computer_Science278.txt  \n",
            "  inflating: Data/Computer_Science/Computer_Science279.txt  \n",
            "  inflating: Data/Computer_Science/Computer_Science28.txt  \n",
            "  inflating: Data/Computer_Science/Computer_Science280.txt  \n",
            "  inflating: Data/Computer_Science/Computer_Science281.txt  \n",
            "  inflating: Data/Computer_Science/Computer_Science282.txt  \n",
            "  inflating: Data/Computer_Science/Computer_Science283.txt  \n",
            "  inflating: Data/Computer_Science/Computer_Science284.txt  \n",
            "  inflating: Data/Computer_Science/Computer_Science285.txt  \n",
            "  inflating: Data/Computer_Science/Computer_Science286.txt  \n",
            "  inflating: Data/Computer_Science/Computer_Science287.txt  \n",
            "  inflating: Data/Computer_Science/Computer_Science288.txt  \n",
            "  inflating: Data/Computer_Science/Computer_Science289.txt  \n",
            "  inflating: Data/Computer_Science/Computer_Science29.txt  \n",
            "  inflating: Data/Computer_Science/Computer_Science290.txt  \n",
            "  inflating: Data/Computer_Science/Computer_Science291.txt  \n",
            "  inflating: Data/Computer_Science/Computer_Science292.txt  \n",
            "  inflating: Data/Computer_Science/Computer_Science293.txt  \n",
            "  inflating: Data/Computer_Science/Computer_Science294.txt  \n",
            " extracting: Data/Computer_Science/Computer_Science295.txt  \n",
            "  inflating: Data/Computer_Science/Computer_Science296.txt  \n",
            "  inflating: Data/Computer_Science/Computer_Science297.txt  \n",
            "  inflating: Data/Computer_Science/Computer_Science298.txt  \n",
            "  inflating: Data/Computer_Science/Computer_Science299.txt  \n",
            "  inflating: Data/Computer_Science/Computer_Science30.txt  \n",
            "  inflating: Data/Computer_Science/Computer_Science300.txt  \n",
            "  inflating: Data/Computer_Science/Computer_Science301.txt  \n",
            "  inflating: Data/Computer_Science/Computer_Science302.txt  \n",
            "  inflating: Data/Computer_Science/Computer_Science303.txt  \n",
            "  inflating: Data/Computer_Science/Computer_Science304.txt  \n",
            "  inflating: Data/Computer_Science/Computer_Science305.txt  \n",
            "  inflating: Data/Computer_Science/Computer_Science306.txt  \n",
            "  inflating: Data/Computer_Science/Computer_Science307.txt  \n",
            "  inflating: Data/Computer_Science/Computer_Science308.txt  \n",
            "  inflating: Data/Computer_Science/Computer_Science309.txt  \n",
            "  inflating: Data/Computer_Science/Computer_Science31.txt  \n",
            "  inflating: Data/Computer_Science/Computer_Science310.txt  \n",
            "  inflating: Data/Computer_Science/Computer_Science311.txt  \n",
            "  inflating: Data/Computer_Science/Computer_Science312.txt  \n",
            "  inflating: Data/Computer_Science/Computer_Science313.txt  \n",
            "  inflating: Data/Computer_Science/Computer_Science314.txt  \n",
            "  inflating: Data/Computer_Science/Computer_Science315.txt  \n",
            "  inflating: Data/Computer_Science/Computer_Science316.txt  \n",
            "  inflating: Data/Computer_Science/Computer_Science317.txt  \n",
            "  inflating: Data/Computer_Science/Computer_Science318.txt  \n",
            "  inflating: Data/Computer_Science/Computer_Science319.txt  \n",
            "  inflating: Data/Computer_Science/Computer_Science32.txt  \n",
            "  inflating: Data/Computer_Science/Computer_Science320.txt  \n",
            "  inflating: Data/Computer_Science/Computer_Science321.txt  \n",
            "  inflating: Data/Computer_Science/Computer_Science322.txt  \n",
            "  inflating: Data/Computer_Science/Computer_Science323.txt  \n",
            "  inflating: Data/Computer_Science/Computer_Science324.txt  \n",
            "  inflating: Data/Computer_Science/Computer_Science325.txt  \n",
            "  inflating: Data/Computer_Science/Computer_Science326.txt  \n",
            "  inflating: Data/Computer_Science/Computer_Science327.txt  \n",
            "  inflating: Data/Computer_Science/Computer_Science328.txt  \n",
            "  inflating: Data/Computer_Science/Computer_Science329.txt  \n",
            "  inflating: Data/Computer_Science/Computer_Science33.txt  \n",
            "  inflating: Data/Computer_Science/Computer_Science330.txt  \n",
            "  inflating: Data/Computer_Science/Computer_Science331.txt  \n",
            "  inflating: Data/Computer_Science/Computer_Science332.txt  \n",
            "  inflating: Data/Computer_Science/Computer_Science333.txt  \n",
            "  inflating: Data/Computer_Science/Computer_Science334.txt  \n",
            "  inflating: Data/Computer_Science/Computer_Science335.txt  \n",
            "  inflating: Data/Computer_Science/Computer_Science336.txt  \n",
            "  inflating: Data/Computer_Science/Computer_Science337.txt  \n",
            "  inflating: Data/Computer_Science/Computer_Science338.txt  \n",
            "  inflating: Data/Computer_Science/Computer_Science339.txt  \n",
            "  inflating: Data/Computer_Science/Computer_Science34.txt  \n",
            "  inflating: Data/Computer_Science/Computer_Science340.txt  \n",
            "  inflating: Data/Computer_Science/Computer_Science341.txt  \n",
            "  inflating: Data/Computer_Science/Computer_Science342.txt  \n",
            "  inflating: Data/Computer_Science/Computer_Science343.txt  \n",
            "  inflating: Data/Computer_Science/Computer_Science344.txt  \n",
            "  inflating: Data/Computer_Science/Computer_Science345.txt  \n",
            "  inflating: Data/Computer_Science/Computer_Science346.txt  \n",
            "  inflating: Data/Computer_Science/Computer_Science347.txt  \n",
            "  inflating: Data/Computer_Science/Computer_Science348.txt  \n",
            "  inflating: Data/Computer_Science/Computer_Science349.txt  \n",
            "  inflating: Data/Computer_Science/Computer_Science35.txt  \n",
            "  inflating: Data/Computer_Science/Computer_Science350.txt  \n",
            "  inflating: Data/Computer_Science/Computer_Science351.txt  \n",
            "  inflating: Data/Computer_Science/Computer_Science352.txt  \n",
            "  inflating: Data/Computer_Science/Computer_Science353.txt  \n",
            "  inflating: Data/Computer_Science/Computer_Science354.txt  \n",
            "  inflating: Data/Computer_Science/Computer_Science355.txt  \n",
            "  inflating: Data/Computer_Science/Computer_Science356.txt  \n",
            "  inflating: Data/Computer_Science/Computer_Science357.txt  \n",
            "  inflating: Data/Computer_Science/Computer_Science358.txt  \n",
            "  inflating: Data/Computer_Science/Computer_Science359.txt  \n",
            "  inflating: Data/Computer_Science/Computer_Science36.txt  \n",
            "  inflating: Data/Computer_Science/Computer_Science360.txt  \n",
            "  inflating: Data/Computer_Science/Computer_Science361.txt  \n",
            "  inflating: Data/Computer_Science/Computer_Science362.txt  \n",
            "  inflating: Data/Computer_Science/Computer_Science363.txt  \n",
            "  inflating: Data/Computer_Science/Computer_Science364.txt  \n",
            "  inflating: Data/Computer_Science/Computer_Science365.txt  \n",
            "  inflating: Data/Computer_Science/Computer_Science366.txt  \n",
            "  inflating: Data/Computer_Science/Computer_Science367.txt  \n",
            "  inflating: Data/Computer_Science/Computer_Science368.txt  \n",
            "  inflating: Data/Computer_Science/Computer_Science369.txt  \n",
            "  inflating: Data/Computer_Science/Computer_Science37.txt  \n",
            "  inflating: Data/Computer_Science/Computer_Science370.txt  \n",
            "  inflating: Data/Computer_Science/Computer_Science371.txt  \n",
            "  inflating: Data/Computer_Science/Computer_Science372.txt  \n",
            "  inflating: Data/Computer_Science/Computer_Science373.txt  \n",
            "  inflating: Data/Computer_Science/Computer_Science374.txt  \n",
            "  inflating: Data/Computer_Science/Computer_Science375.txt  \n",
            "  inflating: Data/Computer_Science/Computer_Science376.txt  \n",
            "  inflating: Data/Computer_Science/Computer_Science377.txt  \n",
            "  inflating: Data/Computer_Science/Computer_Science378.txt  \n",
            "  inflating: Data/Computer_Science/Computer_Science379.txt  \n",
            "  inflating: Data/Computer_Science/Computer_Science38.txt  \n",
            "  inflating: Data/Computer_Science/Computer_Science380.txt  \n",
            " extracting: Data/Computer_Science/Computer_Science381.txt  \n",
            "  inflating: Data/Computer_Science/Computer_Science382.txt  \n",
            "  inflating: Data/Computer_Science/Computer_Science383.txt  \n",
            "  inflating: Data/Computer_Science/Computer_Science384.txt  \n",
            "  inflating: Data/Computer_Science/Computer_Science385.txt  \n",
            "  inflating: Data/Computer_Science/Computer_Science386.txt  \n",
            "  inflating: Data/Computer_Science/Computer_Science387.txt  \n",
            "  inflating: Data/Computer_Science/Computer_Science388.txt  \n",
            "  inflating: Data/Computer_Science/Computer_Science389.txt  \n",
            "  inflating: Data/Computer_Science/Computer_Science39.txt  \n",
            "  inflating: Data/Computer_Science/Computer_Science390.txt  \n",
            "  inflating: Data/Computer_Science/Computer_Science391.txt  \n",
            "  inflating: Data/Computer_Science/Computer_Science392.txt  \n",
            "  inflating: Data/Computer_Science/Computer_Science393.txt  \n",
            "  inflating: Data/Computer_Science/Computer_Science394.txt  \n",
            "  inflating: Data/Computer_Science/Computer_Science395.txt  \n",
            "  inflating: Data/Computer_Science/Computer_Science396.txt  \n",
            "  inflating: Data/Computer_Science/Computer_Science397.txt  \n",
            "  inflating: Data/Computer_Science/Computer_Science398.txt  \n",
            "  inflating: Data/Computer_Science/Computer_Science399.txt  \n",
            "  inflating: Data/Computer_Science/Computer_Science40.txt  \n",
            "  inflating: Data/Computer_Science/Computer_Science400.txt  \n",
            "  inflating: Data/Computer_Science/Computer_Science401.txt  \n",
            "  inflating: Data/Computer_Science/Computer_Science402.txt  \n",
            "  inflating: Data/Computer_Science/Computer_Science403.txt  \n",
            "  inflating: Data/Computer_Science/Computer_Science404.txt  \n",
            "  inflating: Data/Computer_Science/Computer_Science405.txt  \n",
            "  inflating: Data/Computer_Science/Computer_Science406.txt  \n",
            "  inflating: Data/Computer_Science/Computer_Science407.txt  \n",
            "  inflating: Data/Computer_Science/Computer_Science408.txt  \n",
            "  inflating: Data/Computer_Science/Computer_Science409.txt  \n",
            "  inflating: Data/Computer_Science/Computer_Science41.txt  \n",
            "  inflating: Data/Computer_Science/Computer_Science410.txt  \n",
            "  inflating: Data/Computer_Science/Computer_Science411.txt  \n",
            "  inflating: Data/Computer_Science/Computer_Science412.txt  \n",
            "  inflating: Data/Computer_Science/Computer_Science413.txt  \n",
            "  inflating: Data/Computer_Science/Computer_Science414.txt  \n",
            "  inflating: Data/Computer_Science/Computer_Science415.txt  \n",
            "  inflating: Data/Computer_Science/Computer_Science416.txt  \n",
            "  inflating: Data/Computer_Science/Computer_Science417.txt  \n",
            "  inflating: Data/Computer_Science/Computer_Science418.txt  \n",
            "  inflating: Data/Computer_Science/Computer_Science419.txt  \n",
            "  inflating: Data/Computer_Science/Computer_Science42.txt  \n",
            "  inflating: Data/Computer_Science/Computer_Science420.txt  \n",
            "  inflating: Data/Computer_Science/Computer_Science421.txt  \n",
            "  inflating: Data/Computer_Science/Computer_Science422.txt  \n",
            "  inflating: Data/Computer_Science/Computer_Science423.txt  \n",
            "  inflating: Data/Computer_Science/Computer_Science424.txt  \n",
            "  inflating: Data/Computer_Science/Computer_Science425.txt  \n",
            "  inflating: Data/Computer_Science/Computer_Science426.txt  \n",
            "  inflating: Data/Computer_Science/Computer_Science427.txt  \n",
            "  inflating: Data/Computer_Science/Computer_Science428.txt  \n",
            "  inflating: Data/Computer_Science/Computer_Science429.txt  \n",
            "  inflating: Data/Computer_Science/Computer_Science43.txt  \n",
            "  inflating: Data/Computer_Science/Computer_Science430.txt  \n",
            "  inflating: Data/Computer_Science/Computer_Science431.txt  \n",
            "  inflating: Data/Computer_Science/Computer_Science432.txt  \n",
            "  inflating: Data/Computer_Science/Computer_Science433.txt  \n",
            "  inflating: Data/Computer_Science/Computer_Science434.txt  \n",
            "  inflating: Data/Computer_Science/Computer_Science435.txt  \n",
            "  inflating: Data/Computer_Science/Computer_Science436.txt  \n",
            "  inflating: Data/Computer_Science/Computer_Science437.txt  \n",
            "  inflating: Data/Computer_Science/Computer_Science438.txt  \n",
            "  inflating: Data/Computer_Science/Computer_Science439.txt  \n",
            "  inflating: Data/Computer_Science/Computer_Science44.txt  \n",
            "  inflating: Data/Computer_Science/Computer_Science440.txt  \n",
            "  inflating: Data/Computer_Science/Computer_Science441.txt  \n",
            "  inflating: Data/Computer_Science/Computer_Science442.txt  \n",
            "  inflating: Data/Computer_Science/Computer_Science443.txt  \n",
            "  inflating: Data/Computer_Science/Computer_Science444.txt  \n",
            "  inflating: Data/Computer_Science/Computer_Science445.txt  \n",
            "  inflating: Data/Computer_Science/Computer_Science446.txt  \n",
            "  inflating: Data/Computer_Science/Computer_Science447.txt  \n",
            "  inflating: Data/Computer_Science/Computer_Science448.txt  \n",
            "  inflating: Data/Computer_Science/Computer_Science449.txt  \n",
            "  inflating: Data/Computer_Science/Computer_Science45.txt  \n",
            "  inflating: Data/Computer_Science/Computer_Science450.txt  \n",
            "  inflating: Data/Computer_Science/Computer_Science451.txt  \n",
            "  inflating: Data/Computer_Science/Computer_Science452.txt  \n",
            "  inflating: Data/Computer_Science/Computer_Science453.txt  \n",
            "  inflating: Data/Computer_Science/Computer_Science454.txt  \n",
            "  inflating: Data/Computer_Science/Computer_Science455.txt  \n",
            "  inflating: Data/Computer_Science/Computer_Science456.txt  \n",
            "  inflating: Data/Computer_Science/Computer_Science457.txt  \n",
            "  inflating: Data/Computer_Science/Computer_Science458.txt  \n",
            "  inflating: Data/Computer_Science/Computer_Science459.txt  \n",
            "  inflating: Data/Computer_Science/Computer_Science46.txt  \n",
            "  inflating: Data/Computer_Science/Computer_Science460.txt  \n",
            "  inflating: Data/Computer_Science/Computer_Science461.txt  \n",
            "  inflating: Data/Computer_Science/Computer_Science462.txt  \n",
            "  inflating: Data/Computer_Science/Computer_Science463.txt  \n",
            "  inflating: Data/Computer_Science/Computer_Science464.txt  \n",
            "  inflating: Data/Computer_Science/Computer_Science465.txt  \n",
            "  inflating: Data/Computer_Science/Computer_Science466.txt  \n",
            "  inflating: Data/Computer_Science/Computer_Science467.txt  \n",
            "  inflating: Data/Computer_Science/Computer_Science468.txt  \n",
            "  inflating: Data/Computer_Science/Computer_Science469.txt  \n",
            "  inflating: Data/Computer_Science/Computer_Science47.txt  \n",
            "  inflating: Data/Computer_Science/Computer_Science470.txt  \n",
            "  inflating: Data/Computer_Science/Computer_Science471.txt  \n",
            "  inflating: Data/Computer_Science/Computer_Science472.txt  \n",
            "  inflating: Data/Computer_Science/Computer_Science473.txt  \n",
            "  inflating: Data/Computer_Science/Computer_Science474.txt  \n",
            "  inflating: Data/Computer_Science/Computer_Science475.txt  \n",
            "  inflating: Data/Computer_Science/Computer_Science476.txt  \n",
            "  inflating: Data/Computer_Science/Computer_Science477.txt  \n",
            "  inflating: Data/Computer_Science/Computer_Science478.txt  \n",
            "  inflating: Data/Computer_Science/Computer_Science479.txt  \n",
            "  inflating: Data/Computer_Science/Computer_Science48.txt  \n",
            "  inflating: Data/Computer_Science/Computer_Science480.txt  \n",
            "  inflating: Data/Computer_Science/Computer_Science481.txt  \n",
            "  inflating: Data/Computer_Science/Computer_Science482.txt  \n",
            "  inflating: Data/Computer_Science/Computer_Science483.txt  \n",
            "  inflating: Data/Computer_Science/Computer_Science484.txt  \n",
            "  inflating: Data/Computer_Science/Computer_Science485.txt  \n",
            "  inflating: Data/Computer_Science/Computer_Science486.txt  \n",
            "  inflating: Data/Computer_Science/Computer_Science487.txt  \n",
            "  inflating: Data/Computer_Science/Computer_Science488.txt  \n",
            "  inflating: Data/Computer_Science/Computer_Science489.txt  \n",
            "  inflating: Data/Computer_Science/Computer_Science49.txt  \n",
            "  inflating: Data/Computer_Science/Computer_Science490.txt  \n",
            "  inflating: Data/Computer_Science/Computer_Science491.txt  \n",
            "  inflating: Data/Computer_Science/Computer_Science492.txt  \n",
            "  inflating: Data/Computer_Science/Computer_Science493.txt  \n",
            "  inflating: Data/Computer_Science/Computer_Science494.txt  \n",
            "  inflating: Data/Computer_Science/Computer_Science495.txt  \n",
            "  inflating: Data/Computer_Science/Computer_Science496.txt  \n",
            "  inflating: Data/Computer_Science/Computer_Science497.txt  \n",
            "  inflating: Data/Computer_Science/Computer_Science498.txt  \n",
            "  inflating: Data/Computer_Science/Computer_Science499.txt  \n",
            "  inflating: Data/Computer_Science/Computer_Science50.txt  \n",
            "  inflating: Data/Computer_Science/Computer_Science500.txt  \n",
            "  inflating: Data/Computer_Science/Computer_Science501.txt  \n",
            "  inflating: Data/Computer_Science/Computer_Science502.txt  \n",
            "  inflating: Data/Computer_Science/Computer_Science503.txt  \n",
            "  inflating: Data/Computer_Science/Computer_Science504.txt  \n",
            "  inflating: Data/Computer_Science/Computer_Science505.txt  \n",
            "  inflating: Data/Computer_Science/Computer_Science506.txt  \n",
            "  inflating: Data/Computer_Science/Computer_Science507.txt  \n",
            "  inflating: Data/Computer_Science/Computer_Science508.txt  \n",
            "  inflating: Data/Computer_Science/Computer_Science509.txt  \n",
            "  inflating: Data/Computer_Science/Computer_Science51.txt  \n",
            "  inflating: Data/Computer_Science/Computer_Science510.txt  \n",
            "  inflating: Data/Computer_Science/Computer_Science511.txt  \n",
            "  inflating: Data/Computer_Science/Computer_Science512.txt  \n",
            "  inflating: Data/Computer_Science/Computer_Science513.txt  \n",
            "  inflating: Data/Computer_Science/Computer_Science514.txt  \n",
            "  inflating: Data/Computer_Science/Computer_Science515.txt  \n",
            "  inflating: Data/Computer_Science/Computer_Science516.txt  \n",
            "  inflating: Data/Computer_Science/Computer_Science517.txt  \n",
            "  inflating: Data/Computer_Science/Computer_Science518.txt  \n",
            "  inflating: Data/Computer_Science/Computer_Science519.txt  \n",
            "  inflating: Data/Computer_Science/Computer_Science52.txt  \n",
            "  inflating: Data/Computer_Science/Computer_Science520.txt  \n",
            "  inflating: Data/Computer_Science/Computer_Science521.txt  \n",
            "  inflating: Data/Computer_Science/Computer_Science522.txt  \n",
            "  inflating: Data/Computer_Science/Computer_Science523.txt  \n",
            "  inflating: Data/Computer_Science/Computer_Science524.txt  \n",
            "  inflating: Data/Computer_Science/Computer_Science525.txt  \n",
            "  inflating: Data/Computer_Science/Computer_Science526.txt  \n",
            "  inflating: Data/Computer_Science/Computer_Science527.txt  \n",
            "  inflating: Data/Computer_Science/Computer_Science528.txt  \n",
            "  inflating: Data/Computer_Science/Computer_Science529.txt  \n",
            "  inflating: Data/Computer_Science/Computer_Science53.txt  \n",
            "  inflating: Data/Computer_Science/Computer_Science530.txt  \n",
            "  inflating: Data/Computer_Science/Computer_Science531.txt  \n",
            "  inflating: Data/Computer_Science/Computer_Science532.txt  \n",
            "  inflating: Data/Computer_Science/Computer_Science533.txt  \n",
            "  inflating: Data/Computer_Science/Computer_Science534.txt  \n",
            "  inflating: Data/Computer_Science/Computer_Science535.txt  \n",
            "  inflating: Data/Computer_Science/Computer_Science536.txt  \n",
            "  inflating: Data/Computer_Science/Computer_Science537.txt  \n",
            "  inflating: Data/Computer_Science/Computer_Science538.txt  \n",
            "  inflating: Data/Computer_Science/Computer_Science539.txt  \n",
            "  inflating: Data/Computer_Science/Computer_Science54.txt  \n",
            "  inflating: Data/Computer_Science/Computer_Science540.txt  \n",
            "  inflating: Data/Computer_Science/Computer_Science541.txt  \n",
            "  inflating: Data/Computer_Science/Computer_Science542.txt  \n",
            "  inflating: Data/Computer_Science/Computer_Science543.txt  \n",
            "  inflating: Data/Computer_Science/Computer_Science544.txt  \n",
            "  inflating: Data/Computer_Science/Computer_Science545.txt  \n",
            "  inflating: Data/Computer_Science/Computer_Science546.txt  \n",
            "  inflating: Data/Computer_Science/Computer_Science547.txt  \n",
            "  inflating: Data/Computer_Science/Computer_Science548.txt  \n",
            "  inflating: Data/Computer_Science/Computer_Science549.txt  \n",
            "  inflating: Data/Computer_Science/Computer_Science55.txt  \n",
            "  inflating: Data/Computer_Science/Computer_Science550.txt  \n",
            "  inflating: Data/Computer_Science/Computer_Science551.txt  \n",
            "  inflating: Data/Computer_Science/Computer_Science552.txt  \n",
            "  inflating: Data/Computer_Science/Computer_Science553.txt  \n",
            "  inflating: Data/Computer_Science/Computer_Science554.txt  \n",
            "  inflating: Data/Computer_Science/Computer_Science555.txt  \n",
            "  inflating: Data/Computer_Science/Computer_Science556.txt  \n",
            "  inflating: Data/Computer_Science/Computer_Science557.txt  \n",
            "  inflating: Data/Computer_Science/Computer_Science558.txt  \n",
            "  inflating: Data/Computer_Science/Computer_Science559.txt  \n",
            "  inflating: Data/Computer_Science/Computer_Science56.txt  \n",
            "  inflating: Data/Computer_Science/Computer_Science560.txt  \n",
            "  inflating: Data/Computer_Science/Computer_Science561.txt  \n",
            "  inflating: Data/Computer_Science/Computer_Science562.txt  \n",
            "  inflating: Data/Computer_Science/Computer_Science563.txt  \n",
            "  inflating: Data/Computer_Science/Computer_Science564.txt  \n",
            "  inflating: Data/Computer_Science/Computer_Science565.txt  \n",
            "  inflating: Data/Computer_Science/Computer_Science566.txt  \n",
            "  inflating: Data/Computer_Science/Computer_Science567.txt  \n",
            "  inflating: Data/Computer_Science/Computer_Science568.txt  \n",
            "  inflating: Data/Computer_Science/Computer_Science569.txt  \n",
            "  inflating: Data/Computer_Science/Computer_Science57.txt  \n",
            "  inflating: Data/Computer_Science/Computer_Science570.txt  \n",
            "  inflating: Data/Computer_Science/Computer_Science571.txt  \n",
            "  inflating: Data/Computer_Science/Computer_Science572.txt  \n",
            "  inflating: Data/Computer_Science/Computer_Science573.txt  \n",
            "  inflating: Data/Computer_Science/Computer_Science574.txt  \n",
            "  inflating: Data/Computer_Science/Computer_Science575.txt  \n",
            "  inflating: Data/Computer_Science/Computer_Science576.txt  \n",
            "  inflating: Data/Computer_Science/Computer_Science577.txt  \n",
            "  inflating: Data/Computer_Science/Computer_Science578.txt  \n",
            "  inflating: Data/Computer_Science/Computer_Science579.txt  \n",
            "  inflating: Data/Computer_Science/Computer_Science58.txt  \n",
            "  inflating: Data/Computer_Science/Computer_Science580.txt  \n",
            "  inflating: Data/Computer_Science/Computer_Science581.txt  \n",
            "  inflating: Data/Computer_Science/Computer_Science582.txt  \n",
            "  inflating: Data/Computer_Science/Computer_Science583.txt  \n",
            "  inflating: Data/Computer_Science/Computer_Science584.txt  \n",
            "  inflating: Data/Computer_Science/Computer_Science585.txt  \n",
            "  inflating: Data/Computer_Science/Computer_Science586.txt  \n",
            "  inflating: Data/Computer_Science/Computer_Science587.txt  \n",
            "  inflating: Data/Computer_Science/Computer_Science588.txt  \n",
            "  inflating: Data/Computer_Science/Computer_Science589.txt  \n",
            " extracting: Data/Computer_Science/Computer_Science59.txt  \n",
            "  inflating: Data/Computer_Science/Computer_Science590.txt  \n",
            "  inflating: Data/Computer_Science/Computer_Science591.txt  \n",
            "  inflating: Data/Computer_Science/Computer_Science592.txt  \n",
            "  inflating: Data/Computer_Science/Computer_Science593.txt  \n",
            "  inflating: Data/Computer_Science/Computer_Science594.txt  \n",
            "  inflating: Data/Computer_Science/Computer_Science595.txt  \n",
            "  inflating: Data/Computer_Science/Computer_Science596.txt  \n",
            "  inflating: Data/Computer_Science/Computer_Science597.txt  \n",
            "  inflating: Data/Computer_Science/Computer_Science598.txt  \n",
            "  inflating: Data/Computer_Science/Computer_Science599.txt  \n",
            "  inflating: Data/Computer_Science/Computer_Science60.txt  \n",
            "  inflating: Data/Computer_Science/Computer_Science600.txt  \n",
            "  inflating: Data/Computer_Science/Computer_Science601.txt  \n",
            "  inflating: Data/Computer_Science/Computer_Science602.txt  \n",
            "  inflating: Data/Computer_Science/Computer_Science603.txt  \n",
            "  inflating: Data/Computer_Science/Computer_Science604.txt  \n",
            "  inflating: Data/Computer_Science/Computer_Science605.txt  \n",
            "  inflating: Data/Computer_Science/Computer_Science606.txt  \n",
            "  inflating: Data/Computer_Science/Computer_Science607.txt  \n",
            "  inflating: Data/Computer_Science/Computer_Science608.txt  \n",
            "  inflating: Data/Computer_Science/Computer_Science609.txt  \n",
            "  inflating: Data/Computer_Science/Computer_Science61.txt  \n",
            "  inflating: Data/Computer_Science/Computer_Science610.txt  \n",
            "  inflating: Data/Computer_Science/Computer_Science611.txt  \n",
            "  inflating: Data/Computer_Science/Computer_Science612.txt  \n",
            "  inflating: Data/Computer_Science/Computer_Science613.txt  \n",
            "  inflating: Data/Computer_Science/Computer_Science614.txt  \n",
            "  inflating: Data/Computer_Science/Computer_Science615.txt  \n",
            "  inflating: Data/Computer_Science/Computer_Science616.txt  \n",
            "  inflating: Data/Computer_Science/Computer_Science617.txt  \n",
            "  inflating: Data/Computer_Science/Computer_Science618.txt  \n",
            "  inflating: Data/Computer_Science/Computer_Science619.txt  \n",
            "  inflating: Data/Computer_Science/Computer_Science62.txt  \n",
            "  inflating: Data/Computer_Science/Computer_Science620.txt  \n",
            "  inflating: Data/Computer_Science/Computer_Science621.txt  \n",
            "  inflating: Data/Computer_Science/Computer_Science622.txt  \n",
            "  inflating: Data/Computer_Science/Computer_Science623.txt  \n",
            "  inflating: Data/Computer_Science/Computer_Science624.txt  \n",
            "  inflating: Data/Computer_Science/Computer_Science625.txt  \n",
            "  inflating: Data/Computer_Science/Computer_Science626.txt  \n",
            "  inflating: Data/Computer_Science/Computer_Science627.txt  \n",
            "  inflating: Data/Computer_Science/Computer_Science628.txt  \n",
            "  inflating: Data/Computer_Science/Computer_Science629.txt  \n",
            "  inflating: Data/Computer_Science/Computer_Science63.txt  \n",
            "  inflating: Data/Computer_Science/Computer_Science630.txt  \n",
            "  inflating: Data/Computer_Science/Computer_Science631.txt  \n",
            "  inflating: Data/Computer_Science/Computer_Science632.txt  \n",
            "  inflating: Data/Computer_Science/Computer_Science633.txt  \n",
            "  inflating: Data/Computer_Science/Computer_Science634.txt  \n",
            "  inflating: Data/Computer_Science/Computer_Science635.txt  \n",
            "  inflating: Data/Computer_Science/Computer_Science636.txt  \n",
            "  inflating: Data/Computer_Science/Computer_Science637.txt  \n",
            "  inflating: Data/Computer_Science/Computer_Science638.txt  \n",
            "  inflating: Data/Computer_Science/Computer_Science639.txt  \n",
            "  inflating: Data/Computer_Science/Computer_Science64.txt  \n",
            "  inflating: Data/Computer_Science/Computer_Science640.txt  \n",
            "  inflating: Data/Computer_Science/Computer_Science641.txt  \n",
            "  inflating: Data/Computer_Science/Computer_Science642.txt  \n",
            "  inflating: Data/Computer_Science/Computer_Science643.txt  \n",
            "  inflating: Data/Computer_Science/Computer_Science644.txt  \n",
            "  inflating: Data/Computer_Science/Computer_Science645.txt  \n",
            "  inflating: Data/Computer_Science/Computer_Science646.txt  \n",
            "  inflating: Data/Computer_Science/Computer_Science647.txt  \n",
            "  inflating: Data/Computer_Science/Computer_Science648.txt  \n",
            "  inflating: Data/Computer_Science/Computer_Science649.txt  \n",
            "  inflating: Data/Computer_Science/Computer_Science65.txt  \n",
            "  inflating: Data/Computer_Science/Computer_Science650.txt  \n",
            "  inflating: Data/Computer_Science/Computer_Science651.txt  \n",
            "  inflating: Data/Computer_Science/Computer_Science652.txt  \n",
            "  inflating: Data/Computer_Science/Computer_Science653.txt  \n",
            "  inflating: Data/Computer_Science/Computer_Science654.txt  \n",
            "  inflating: Data/Computer_Science/Computer_Science655.txt  \n",
            "  inflating: Data/Computer_Science/Computer_Science656.txt  \n",
            "  inflating: Data/Computer_Science/Computer_Science657.txt  \n",
            "  inflating: Data/Computer_Science/Computer_Science658.txt  \n",
            "  inflating: Data/Computer_Science/Computer_Science659.txt  \n",
            "  inflating: Data/Computer_Science/Computer_Science66.txt  \n",
            "  inflating: Data/Computer_Science/Computer_Science660.txt  \n",
            "  inflating: Data/Computer_Science/Computer_Science661.txt  \n",
            "  inflating: Data/Computer_Science/Computer_Science67.txt  \n",
            "  inflating: Data/Computer_Science/Computer_Science68.txt  \n",
            "  inflating: Data/Computer_Science/Computer_Science69.txt  \n",
            "  inflating: Data/Computer_Science/Computer_Science70.txt  \n",
            "  inflating: Data/Computer_Science/Computer_Science71.txt  \n",
            "  inflating: Data/Computer_Science/Computer_Science72.txt  \n",
            "  inflating: Data/Computer_Science/Computer_Science73.txt  \n",
            "  inflating: Data/Computer_Science/Computer_Science74.txt  \n",
            "  inflating: Data/Computer_Science/Computer_Science75.txt  \n",
            "  inflating: Data/Computer_Science/Computer_Science76.txt  \n",
            "  inflating: Data/Computer_Science/Computer_Science77.txt  \n",
            "  inflating: Data/Computer_Science/Computer_Science78.txt  \n",
            "  inflating: Data/Computer_Science/Computer_Science79.txt  \n",
            "  inflating: Data/Computer_Science/Computer_Science80.txt  \n",
            "  inflating: Data/Computer_Science/Computer_Science81.txt  \n",
            "  inflating: Data/Computer_Science/Computer_Science82.txt  \n",
            "  inflating: Data/Computer_Science/Computer_Science83.txt  \n",
            "  inflating: Data/Computer_Science/Computer_Science84.txt  \n",
            "  inflating: Data/Computer_Science/Computer_Science85.txt  \n",
            "  inflating: Data/Computer_Science/Computer_Science86.txt  \n",
            "  inflating: Data/Computer_Science/Computer_Science87.txt  \n",
            "  inflating: Data/Computer_Science/Computer_Science88.txt  \n",
            "  inflating: Data/Computer_Science/Computer_Science89.txt  \n",
            "  inflating: Data/Computer_Science/Computer_Science90.txt  \n",
            "  inflating: Data/Computer_Science/Computer_Science91.txt  \n",
            "  inflating: Data/Computer_Science/Computer_Science92.txt  \n",
            "  inflating: Data/Computer_Science/Computer_Science93.txt  \n",
            "  inflating: Data/Computer_Science/Computer_Science94.txt  \n",
            "  inflating: Data/Computer_Science/Computer_Science95.txt  \n",
            "  inflating: Data/Computer_Science/Computer_Science96.txt  \n",
            "  inflating: Data/Computer_Science/Computer_Science97.txt  \n",
            "  inflating: Data/Computer_Science/Computer_Science98.txt  \n",
            "  inflating: Data/Computer_Science/Computer_Science99.txt  \n",
            "   creating: Data/History/\n",
            "  inflating: Data/History/History_100.txt  \n",
            "  inflating: Data/History/History_101.txt  \n",
            "  inflating: Data/History/History_102.txt  \n",
            "  inflating: Data/History/History_103.txt  \n",
            "  inflating: Data/History/History_104.txt  \n",
            "  inflating: Data/History/History_105.txt  \n",
            "  inflating: Data/History/History_106.txt  \n",
            "  inflating: Data/History/History_107.txt  \n",
            "  inflating: Data/History/History_108.txt  \n",
            "  inflating: Data/History/History_109.txt  \n",
            "  inflating: Data/History/History_110.txt  \n",
            "  inflating: Data/History/History_111.txt  \n",
            "  inflating: Data/History/History_112.txt  \n",
            "  inflating: Data/History/History_113.txt  \n",
            "  inflating: Data/History/History_114.txt  \n",
            "  inflating: Data/History/History_115.txt  \n",
            "  inflating: Data/History/History_116.txt  \n",
            "  inflating: Data/History/History_117.txt  \n",
            "  inflating: Data/History/History_118.txt  \n",
            "  inflating: Data/History/History_119.txt  \n",
            "  inflating: Data/History/History_120.txt  \n",
            "  inflating: Data/History/History_121.txt  \n",
            "  inflating: Data/History/History_122.txt  \n",
            "  inflating: Data/History/History_123.txt  \n",
            "  inflating: Data/History/History_124.txt  \n",
            "  inflating: Data/History/History_125.txt  \n",
            "  inflating: Data/History/History_126.txt  \n",
            "  inflating: Data/History/History_127.txt  \n",
            "  inflating: Data/History/History_128.txt  \n",
            "  inflating: Data/History/History_129.txt  \n",
            "  inflating: Data/History/History_130.txt  \n",
            "  inflating: Data/History/History_131.txt  \n",
            "  inflating: Data/History/History_132.txt  \n",
            "  inflating: Data/History/History_133.txt  \n",
            "  inflating: Data/History/History_134.txt  \n",
            "  inflating: Data/History/History_135.txt  \n",
            "  inflating: Data/History/History_136.txt  \n",
            "  inflating: Data/History/History_137.txt  \n",
            "  inflating: Data/History/History_138.txt  \n",
            "  inflating: Data/History/History_139.txt  \n",
            "  inflating: Data/History/History_140.txt  \n",
            "  inflating: Data/History/History_141.txt  \n",
            "  inflating: Data/History/History_142.txt  \n",
            "  inflating: Data/History/History_143.txt  \n",
            "  inflating: Data/History/History_144.txt  \n",
            "  inflating: Data/History/History_145.txt  \n",
            "  inflating: Data/History/History_146.txt  \n",
            "  inflating: Data/History/History_147.txt  \n",
            "  inflating: Data/History/History_148.txt  \n",
            "  inflating: Data/History/History_149.txt  \n",
            "  inflating: Data/History/History_150.txt  \n",
            "  inflating: Data/History/History_151.txt  \n",
            "  inflating: Data/History/History_152.txt  \n",
            "  inflating: Data/History/History_153.txt  \n",
            "  inflating: Data/History/History_154.txt  \n",
            "  inflating: Data/History/History_155.txt  \n",
            "  inflating: Data/History/History_156.txt  \n",
            "  inflating: Data/History/History_157.txt  \n",
            "  inflating: Data/History/History_158.txt  \n",
            "  inflating: Data/History/History_159.txt  \n",
            "  inflating: Data/History/History_160.txt  \n",
            "  inflating: Data/History/History_161.txt  \n",
            "  inflating: Data/History/History_162.txt  \n",
            "  inflating: Data/History/History_163.txt  \n",
            "  inflating: Data/History/History_164.txt  \n",
            "  inflating: Data/History/History_165.txt  \n",
            "  inflating: Data/History/History_166.txt  \n",
            "  inflating: Data/History/History_167.txt  \n",
            " extracting: Data/History/History_168.txt  \n",
            "  inflating: Data/History/History_169.txt  \n",
            "  inflating: Data/History/History_170.txt  \n",
            "  inflating: Data/History/History_171.txt  \n",
            "  inflating: Data/History/History_172.txt  \n",
            "  inflating: Data/History/History_173.txt  \n",
            "  inflating: Data/History/History_174.txt  \n",
            "  inflating: Data/History/History_175.txt  \n",
            "  inflating: Data/History/History_176.txt  \n",
            "  inflating: Data/History/History_177.txt  \n",
            "  inflating: Data/History/History_178.txt  \n",
            "  inflating: Data/History/History_179.txt  \n",
            "  inflating: Data/History/History_180.txt  \n",
            "  inflating: Data/History/History_181.txt  \n",
            "  inflating: Data/History/History_182.txt  \n",
            "  inflating: Data/History/History_183.txt  \n",
            "  inflating: Data/History/History_184.txt  \n",
            "  inflating: Data/History/History_185.txt  \n",
            "  inflating: Data/History/History_186.txt  \n",
            "  inflating: Data/History/History_187.txt  \n",
            "  inflating: Data/History/History_188.txt  \n",
            "  inflating: Data/History/History_189.txt  \n",
            "  inflating: Data/History/History_190.txt  \n",
            "  inflating: Data/History/History_191.txt  \n",
            "  inflating: Data/History/History_192.txt  \n",
            "  inflating: Data/History/History_193.txt  \n",
            "  inflating: Data/History/History_194.txt  \n",
            "  inflating: Data/History/History_195.txt  \n",
            "  inflating: Data/History/History_196.txt  \n",
            "  inflating: Data/History/History_197.txt  \n",
            "  inflating: Data/History/History_198.txt  \n",
            "  inflating: Data/History/History_199.txt  \n",
            "  inflating: Data/History/History_20.txt  \n",
            "  inflating: Data/History/History_200.txt  \n",
            "  inflating: Data/History/History_201.txt  \n",
            "  inflating: Data/History/History_202.txt  \n",
            "  inflating: Data/History/History_203.txt  \n",
            "  inflating: Data/History/History_204.txt  \n",
            "  inflating: Data/History/History_205.txt  \n",
            "  inflating: Data/History/History_206.txt  \n",
            "  inflating: Data/History/History_207.txt  \n",
            "  inflating: Data/History/History_208.txt  \n",
            "  inflating: Data/History/History_209.txt  \n",
            "  inflating: Data/History/History_21.txt  \n",
            "  inflating: Data/History/History_210.txt  \n",
            "  inflating: Data/History/History_211.txt  \n",
            "  inflating: Data/History/History_212.txt  \n",
            "  inflating: Data/History/History_213.txt  \n",
            "  inflating: Data/History/History_214.txt  \n",
            "  inflating: Data/History/History_215.txt  \n",
            "  inflating: Data/History/History_216.txt  \n",
            "  inflating: Data/History/History_217.txt  \n",
            "  inflating: Data/History/History_218.txt  \n",
            "  inflating: Data/History/History_219.txt  \n",
            "  inflating: Data/History/History_22.txt  \n",
            "  inflating: Data/History/History_220.txt  \n",
            "  inflating: Data/History/History_221.txt  \n",
            "  inflating: Data/History/History_222.txt  \n",
            "  inflating: Data/History/History_223.txt  \n",
            "  inflating: Data/History/History_224.txt  \n",
            "  inflating: Data/History/History_225.txt  \n",
            "  inflating: Data/History/History_226.txt  \n",
            "  inflating: Data/History/History_227.txt  \n",
            "  inflating: Data/History/History_228.txt  \n",
            "  inflating: Data/History/History_229.txt  \n",
            "  inflating: Data/History/History_23.txt  \n",
            "  inflating: Data/History/History_230.txt  \n",
            "  inflating: Data/History/History_231.txt  \n",
            "  inflating: Data/History/History_232.txt  \n",
            "  inflating: Data/History/History_233.txt  \n",
            "  inflating: Data/History/History_234.txt  \n",
            "  inflating: Data/History/History_235.txt  \n",
            "  inflating: Data/History/History_236.txt  \n",
            "  inflating: Data/History/History_237.txt  \n",
            "  inflating: Data/History/History_238.txt  \n",
            "  inflating: Data/History/History_239.txt  \n",
            "  inflating: Data/History/History_24.txt  \n",
            "  inflating: Data/History/History_240.txt  \n",
            "  inflating: Data/History/History_241.txt  \n",
            " extracting: Data/History/History_242.txt  \n",
            "  inflating: Data/History/History_243.txt  \n",
            "  inflating: Data/History/History_244.txt  \n",
            "  inflating: Data/History/History_245.txt  \n",
            "  inflating: Data/History/History_246.txt  \n",
            "  inflating: Data/History/History_247.txt  \n",
            "  inflating: Data/History/History_248.txt  \n",
            "  inflating: Data/History/History_249.txt  \n",
            "  inflating: Data/History/History_25.txt  \n",
            "  inflating: Data/History/History_250.txt  \n",
            "  inflating: Data/History/History_251.txt  \n",
            "  inflating: Data/History/History_252.txt  \n",
            "  inflating: Data/History/History_253.txt  \n",
            "  inflating: Data/History/History_254.txt  \n",
            "  inflating: Data/History/History_255.txt  \n",
            "  inflating: Data/History/History_256.txt  \n",
            "  inflating: Data/History/History_257.txt  \n",
            "  inflating: Data/History/History_258.txt  \n",
            "  inflating: Data/History/History_259.txt  \n",
            "  inflating: Data/History/History_26.txt  \n",
            "  inflating: Data/History/History_260.txt  \n",
            "  inflating: Data/History/History_261.txt  \n",
            "  inflating: Data/History/History_262.txt  \n",
            "  inflating: Data/History/History_263.txt  \n",
            "  inflating: Data/History/History_264.txt  \n",
            "  inflating: Data/History/History_265.txt  \n",
            "  inflating: Data/History/History_266.txt  \n",
            "  inflating: Data/History/History_267.txt  \n",
            " extracting: Data/History/History_268.txt  \n",
            "  inflating: Data/History/History_269.txt  \n",
            "  inflating: Data/History/History_27.txt  \n",
            "  inflating: Data/History/History_270.txt  \n",
            "  inflating: Data/History/History_271.txt  \n",
            "  inflating: Data/History/History_272.txt  \n",
            "  inflating: Data/History/History_273.txt  \n",
            "  inflating: Data/History/History_274.txt  \n",
            "  inflating: Data/History/History_275.txt  \n",
            "  inflating: Data/History/History_276.txt  \n",
            "  inflating: Data/History/History_277.txt  \n",
            "  inflating: Data/History/History_278.txt  \n",
            "  inflating: Data/History/History_279.txt  \n",
            "  inflating: Data/History/History_28.txt  \n",
            "  inflating: Data/History/History_280.txt  \n",
            "  inflating: Data/History/History_281.txt  \n",
            "  inflating: Data/History/History_282.txt  \n",
            "  inflating: Data/History/History_283.txt  \n",
            "  inflating: Data/History/History_284.txt  \n",
            "  inflating: Data/History/History_285.txt  \n",
            "  inflating: Data/History/History_286.txt  \n",
            "  inflating: Data/History/History_287.txt  \n",
            "  inflating: Data/History/History_288.txt  \n",
            "  inflating: Data/History/History_289.txt  \n",
            "  inflating: Data/History/History_29.txt  \n",
            "  inflating: Data/History/History_290.txt  \n",
            "  inflating: Data/History/History_291.txt  \n",
            "  inflating: Data/History/History_292.txt  \n",
            "  inflating: Data/History/History_293.txt  \n",
            "  inflating: Data/History/History_294.txt  \n",
            "  inflating: Data/History/History_295.txt  \n",
            "  inflating: Data/History/History_296.txt  \n",
            "  inflating: Data/History/History_297.txt  \n",
            "  inflating: Data/History/History_298.txt  \n",
            "  inflating: Data/History/History_299.txt  \n",
            " extracting: Data/History/History_30.txt  \n",
            "  inflating: Data/History/History_300.txt  \n",
            "  inflating: Data/History/History_301.txt  \n",
            "  inflating: Data/History/History_302.txt  \n",
            "  inflating: Data/History/History_303.txt  \n",
            "  inflating: Data/History/History_304.txt  \n",
            "  inflating: Data/History/History_305.txt  \n",
            "  inflating: Data/History/History_306.txt  \n",
            "  inflating: Data/History/History_307.txt  \n",
            "  inflating: Data/History/History_308.txt  \n",
            "  inflating: Data/History/History_309.txt  \n",
            "  inflating: Data/History/History_31.txt  \n",
            "  inflating: Data/History/History_310.txt  \n",
            "  inflating: Data/History/History_311.txt  \n",
            "  inflating: Data/History/History_312.txt  \n",
            "  inflating: Data/History/History_313.txt  \n",
            "  inflating: Data/History/History_314.txt  \n",
            "  inflating: Data/History/History_315.txt  \n",
            "  inflating: Data/History/History_316.txt  \n",
            "  inflating: Data/History/History_317.txt  \n",
            "  inflating: Data/History/History_318.txt  \n",
            "  inflating: Data/History/History_319.txt  \n",
            "  inflating: Data/History/History_32.txt  \n",
            "  inflating: Data/History/History_320.txt  \n",
            "  inflating: Data/History/History_321.txt  \n",
            "  inflating: Data/History/History_322.txt  \n",
            "  inflating: Data/History/History_323.txt  \n",
            "  inflating: Data/History/History_324.txt  \n",
            "  inflating: Data/History/History_325.txt  \n",
            "  inflating: Data/History/History_326.txt  \n",
            "  inflating: Data/History/History_327.txt  \n",
            "  inflating: Data/History/History_328.txt  \n",
            "  inflating: Data/History/History_329.txt  \n",
            "  inflating: Data/History/History_33.txt  \n",
            "  inflating: Data/History/History_330.txt  \n",
            "  inflating: Data/History/History_331.txt  \n",
            "  inflating: Data/History/History_332.txt  \n",
            "  inflating: Data/History/History_333.txt  \n",
            "  inflating: Data/History/History_334.txt  \n",
            "  inflating: Data/History/History_335.txt  \n",
            "  inflating: Data/History/History_336.txt  \n",
            "  inflating: Data/History/History_337.txt  \n",
            "  inflating: Data/History/History_338.txt  \n",
            "  inflating: Data/History/History_339.txt  \n",
            "  inflating: Data/History/History_34.txt  \n",
            "  inflating: Data/History/History_340.txt  \n",
            "  inflating: Data/History/History_341.txt  \n",
            "  inflating: Data/History/History_342.txt  \n",
            "  inflating: Data/History/History_343.txt  \n",
            "  inflating: Data/History/History_344.txt  \n",
            "  inflating: Data/History/History_345.txt  \n",
            "  inflating: Data/History/History_346.txt  \n",
            "  inflating: Data/History/History_347.txt  \n",
            "  inflating: Data/History/History_348.txt  \n",
            "  inflating: Data/History/History_349.txt  \n",
            "  inflating: Data/History/History_35.txt  \n",
            "  inflating: Data/History/History_350.txt  \n",
            "  inflating: Data/History/History_351.txt  \n",
            "  inflating: Data/History/History_352.txt  \n",
            "  inflating: Data/History/History_353.txt  \n",
            "  inflating: Data/History/History_354.txt  \n",
            "  inflating: Data/History/History_355.txt  \n",
            "  inflating: Data/History/History_356.txt  \n",
            "  inflating: Data/History/History_357.txt  \n",
            "  inflating: Data/History/History_358.txt  \n",
            "  inflating: Data/History/History_359.txt  \n",
            "  inflating: Data/History/History_36.txt  \n",
            "  inflating: Data/History/History_360.txt  \n",
            "  inflating: Data/History/History_361.txt  \n",
            "  inflating: Data/History/History_362.txt  \n",
            "  inflating: Data/History/History_363.txt  \n",
            "  inflating: Data/History/History_364.txt  \n",
            "  inflating: Data/History/History_365.txt  \n",
            "  inflating: Data/History/History_366.txt  \n",
            "  inflating: Data/History/History_367.txt  \n",
            "  inflating: Data/History/History_368.txt  \n",
            "  inflating: Data/History/History_369.txt  \n",
            "  inflating: Data/History/History_37.txt  \n",
            "  inflating: Data/History/History_370.txt  \n",
            "  inflating: Data/History/History_371.txt  \n",
            " extracting: Data/History/History_372.txt  \n",
            "  inflating: Data/History/History_373.txt  \n",
            "  inflating: Data/History/History_374.txt  \n",
            "  inflating: Data/History/History_375.txt  \n",
            "  inflating: Data/History/History_376.txt  \n",
            "  inflating: Data/History/History_377.txt  \n",
            "  inflating: Data/History/History_378.txt  \n",
            "  inflating: Data/History/History_379.txt  \n",
            "  inflating: Data/History/History_38.txt  \n",
            "  inflating: Data/History/History_380.txt  \n",
            "  inflating: Data/History/History_381.txt  \n",
            "  inflating: Data/History/History_382.txt  \n",
            "  inflating: Data/History/History_383.txt  \n",
            "  inflating: Data/History/History_384.txt  \n",
            "  inflating: Data/History/History_385.txt  \n",
            "  inflating: Data/History/History_386.txt  \n",
            "  inflating: Data/History/History_387.txt  \n",
            "  inflating: Data/History/History_388.txt  \n",
            "  inflating: Data/History/History_389.txt  \n",
            "  inflating: Data/History/History_39.txt  \n",
            "  inflating: Data/History/History_390.txt  \n",
            "  inflating: Data/History/History_391.txt  \n",
            " extracting: Data/History/History_392.txt  \n",
            "  inflating: Data/History/History_393.txt  \n",
            "  inflating: Data/History/History_394.txt  \n",
            "  inflating: Data/History/History_395.txt  \n",
            "  inflating: Data/History/History_396.txt  \n",
            "  inflating: Data/History/History_397.txt  \n",
            "  inflating: Data/History/History_398.txt  \n",
            "  inflating: Data/History/History_399.txt  \n",
            "  inflating: Data/History/History_40.txt  \n",
            " extracting: Data/History/History_400.txt  \n",
            "  inflating: Data/History/History_401.txt  \n",
            "  inflating: Data/History/History_402.txt  \n",
            "  inflating: Data/History/History_403.txt  \n",
            "  inflating: Data/History/History_404.txt  \n",
            "  inflating: Data/History/History_405.txt  \n",
            "  inflating: Data/History/History_406.txt  \n",
            "  inflating: Data/History/History_407.txt  \n",
            "  inflating: Data/History/History_408.txt  \n",
            "  inflating: Data/History/History_409.txt  \n",
            "  inflating: Data/History/History_41.txt  \n",
            "  inflating: Data/History/History_410.txt  \n",
            "  inflating: Data/History/History_411.txt  \n",
            "  inflating: Data/History/History_412.txt  \n",
            "  inflating: Data/History/History_413.txt  \n",
            "  inflating: Data/History/History_414.txt  \n",
            "  inflating: Data/History/History_415.txt  \n",
            "  inflating: Data/History/History_416.txt  \n",
            "  inflating: Data/History/History_417.txt  \n",
            "  inflating: Data/History/History_418.txt  \n",
            "  inflating: Data/History/History_419.txt  \n",
            "  inflating: Data/History/History_42.txt  \n",
            "  inflating: Data/History/History_420.txt  \n",
            "  inflating: Data/History/History_421.txt  \n",
            "  inflating: Data/History/History_422.txt  \n",
            "  inflating: Data/History/History_423.txt  \n",
            "  inflating: Data/History/History_424.txt  \n",
            "  inflating: Data/History/History_425.txt  \n",
            "  inflating: Data/History/History_426.txt  \n",
            "  inflating: Data/History/History_427.txt  \n",
            "  inflating: Data/History/History_428.txt  \n",
            "  inflating: Data/History/History_429.txt  \n",
            "  inflating: Data/History/History_43.txt  \n",
            "  inflating: Data/History/History_430.txt  \n",
            "  inflating: Data/History/History_431.txt  \n",
            "  inflating: Data/History/History_432.txt  \n",
            "  inflating: Data/History/History_433.txt  \n",
            "  inflating: Data/History/History_434.txt  \n",
            "  inflating: Data/History/History_435.txt  \n",
            "  inflating: Data/History/History_436.txt  \n",
            "  inflating: Data/History/History_437.txt  \n",
            "  inflating: Data/History/History_438.txt  \n",
            "  inflating: Data/History/History_439.txt  \n",
            "  inflating: Data/History/History_44.txt  \n",
            "  inflating: Data/History/History_440.txt  \n",
            "  inflating: Data/History/History_441.txt  \n",
            "  inflating: Data/History/History_442.txt  \n",
            "  inflating: Data/History/History_443.txt  \n",
            "  inflating: Data/History/History_444.txt  \n",
            "  inflating: Data/History/History_445.txt  \n",
            "  inflating: Data/History/History_446.txt  \n",
            "  inflating: Data/History/History_447.txt  \n",
            "  inflating: Data/History/History_448.txt  \n",
            "  inflating: Data/History/History_449.txt  \n",
            "  inflating: Data/History/History_45.txt  \n",
            "  inflating: Data/History/History_450.txt  \n",
            "  inflating: Data/History/History_451.txt  \n",
            " extracting: Data/History/History_452.txt  \n",
            "  inflating: Data/History/History_453.txt  \n",
            "  inflating: Data/History/History_454.txt  \n",
            "  inflating: Data/History/History_455.txt  \n",
            "  inflating: Data/History/History_456.txt  \n",
            "  inflating: Data/History/History_457.txt  \n",
            "  inflating: Data/History/History_458.txt  \n",
            "  inflating: Data/History/History_459.txt  \n",
            "  inflating: Data/History/History_46.txt  \n",
            "  inflating: Data/History/History_460.txt  \n",
            "  inflating: Data/History/History_461.txt  \n",
            "  inflating: Data/History/History_462.txt  \n",
            "  inflating: Data/History/History_463.txt  \n",
            "  inflating: Data/History/History_464.txt  \n",
            "  inflating: Data/History/History_465.txt  \n",
            "  inflating: Data/History/History_466.txt  \n",
            "  inflating: Data/History/History_467.txt  \n",
            "  inflating: Data/History/History_468.txt  \n",
            "  inflating: Data/History/History_469.txt  \n",
            "  inflating: Data/History/History_47.txt  \n",
            "  inflating: Data/History/History_470.txt  \n",
            "  inflating: Data/History/History_471.txt  \n",
            "  inflating: Data/History/History_472.txt  \n",
            "  inflating: Data/History/History_473.txt  \n",
            "  inflating: Data/History/History_474.txt  \n",
            "  inflating: Data/History/History_475.txt  \n",
            "  inflating: Data/History/History_476.txt  \n",
            "  inflating: Data/History/History_477.txt  \n",
            "  inflating: Data/History/History_478.txt  \n",
            "  inflating: Data/History/History_479.txt  \n",
            "  inflating: Data/History/History_48.txt  \n",
            "  inflating: Data/History/History_480.txt  \n",
            "  inflating: Data/History/History_481.txt  \n",
            "  inflating: Data/History/History_482.txt  \n",
            "  inflating: Data/History/History_483.txt  \n",
            "  inflating: Data/History/History_484.txt  \n",
            "  inflating: Data/History/History_485.txt  \n",
            "  inflating: Data/History/History_486.txt  \n",
            "  inflating: Data/History/History_487.txt  \n",
            "  inflating: Data/History/History_488.txt  \n",
            "  inflating: Data/History/History_489.txt  \n",
            "  inflating: Data/History/History_49.txt  \n",
            "  inflating: Data/History/History_490.txt  \n",
            "  inflating: Data/History/History_491.txt  \n",
            "  inflating: Data/History/History_492.txt  \n",
            "  inflating: Data/History/History_493.txt  \n",
            "  inflating: Data/History/History_494.txt  \n",
            "  inflating: Data/History/History_495.txt  \n",
            "  inflating: Data/History/History_496.txt  \n",
            "  inflating: Data/History/History_497.txt  \n",
            "  inflating: Data/History/History_498.txt  \n",
            "  inflating: Data/History/History_499.txt  \n",
            "  inflating: Data/History/History_50.txt  \n",
            "  inflating: Data/History/History_500.txt  \n",
            "  inflating: Data/History/History_501.txt  \n",
            "  inflating: Data/History/History_502.txt  \n",
            "  inflating: Data/History/History_503.txt  \n",
            "  inflating: Data/History/History_504.txt  \n",
            "  inflating: Data/History/History_505.txt  \n",
            "  inflating: Data/History/History_506.txt  \n",
            "  inflating: Data/History/History_507.txt  \n",
            "  inflating: Data/History/History_508.txt  \n",
            "  inflating: Data/History/History_509.txt  \n",
            "  inflating: Data/History/History_51.txt  \n",
            "  inflating: Data/History/History_510.txt  \n",
            "  inflating: Data/History/History_511.txt  \n",
            "  inflating: Data/History/History_512.txt  \n",
            "  inflating: Data/History/History_513.txt  \n",
            " extracting: Data/History/History_514.txt  \n",
            "  inflating: Data/History/History_515.txt  \n",
            "  inflating: Data/History/History_516.txt  \n",
            "  inflating: Data/History/History_517.txt  \n",
            "  inflating: Data/History/History_518.txt  \n",
            "  inflating: Data/History/History_519.txt  \n",
            "  inflating: Data/History/History_52.txt  \n",
            "  inflating: Data/History/History_53.txt  \n",
            "  inflating: Data/History/History_54.txt  \n",
            "  inflating: Data/History/History_55.txt  \n",
            "  inflating: Data/History/History_56.txt  \n",
            "  inflating: Data/History/History_57.txt  \n",
            "  inflating: Data/History/History_58.txt  \n",
            "  inflating: Data/History/History_59.txt  \n",
            "  inflating: Data/History/History_60.txt  \n",
            "  inflating: Data/History/History_61.txt  \n",
            "  inflating: Data/History/History_62.txt  \n",
            "  inflating: Data/History/History_63.txt  \n",
            "  inflating: Data/History/History_64.txt  \n",
            "  inflating: Data/History/History_65.txt  \n",
            "  inflating: Data/History/History_66.txt  \n",
            "  inflating: Data/History/History_67.txt  \n",
            "  inflating: Data/History/History_68.txt  \n",
            "  inflating: Data/History/History_69.txt  \n",
            "  inflating: Data/History/History_70.txt  \n",
            "  inflating: Data/History/History_71.txt  \n",
            "  inflating: Data/History/History_72.txt  \n",
            "  inflating: Data/History/History_73.txt  \n",
            "  inflating: Data/History/History_74.txt  \n",
            "  inflating: Data/History/History_75.txt  \n",
            "  inflating: Data/History/History_76.txt  \n",
            "  inflating: Data/History/History_77.txt  \n",
            "  inflating: Data/History/History_78.txt  \n",
            "  inflating: Data/History/History_79.txt  \n",
            "  inflating: Data/History/History_80.txt  \n",
            "  inflating: Data/History/History_81.txt  \n",
            "  inflating: Data/History/History_82.txt  \n",
            "  inflating: Data/History/History_83.txt  \n",
            "  inflating: Data/History/History_84.txt  \n",
            "  inflating: Data/History/History_85.txt  \n",
            "  inflating: Data/History/History_86.txt  \n",
            "  inflating: Data/History/History_87.txt  \n",
            " extracting: Data/History/History_88.txt  \n",
            "  inflating: Data/History/History_89.txt  \n",
            "  inflating: Data/History/History_90.txt  \n",
            "  inflating: Data/History/History_91.txt  \n",
            "  inflating: Data/History/History_92.txt  \n",
            "  inflating: Data/History/History_93.txt  \n",
            "  inflating: Data/History/History_94.txt  \n",
            "  inflating: Data/History/History_95.txt  \n",
            "  inflating: Data/History/History_96.txt  \n",
            "  inflating: Data/History/History_97.txt  \n",
            "  inflating: Data/History/History_98.txt  \n",
            "  inflating: Data/History/History_99.txt  \n",
            "   creating: Data/Maths/\n",
            "  inflating: Data/Maths/Math_100.txt  \n",
            "  inflating: Data/Maths/Math_101.txt  \n",
            "  inflating: Data/Maths/Math_102.txt  \n",
            "  inflating: Data/Maths/Math_103.txt  \n",
            "  inflating: Data/Maths/Math_104.txt  \n",
            "  inflating: Data/Maths/Math_105.txt  \n",
            "  inflating: Data/Maths/Math_106.txt  \n",
            "  inflating: Data/Maths/Math_107.txt  \n",
            "  inflating: Data/Maths/Math_108.txt  \n",
            "  inflating: Data/Maths/Math_109.txt  \n",
            "  inflating: Data/Maths/Math_110.txt  \n",
            "  inflating: Data/Maths/Math_111.txt  \n",
            "  inflating: Data/Maths/Math_112.txt  \n",
            "  inflating: Data/Maths/Math_113.txt  \n",
            "  inflating: Data/Maths/Math_114.txt  \n",
            "  inflating: Data/Maths/Math_115.txt  \n",
            "  inflating: Data/Maths/Math_116.txt  \n",
            "  inflating: Data/Maths/Math_117.txt  \n",
            "  inflating: Data/Maths/Math_118.txt  \n",
            "  inflating: Data/Maths/Math_119.txt  \n",
            "  inflating: Data/Maths/Math_120.txt  \n",
            "  inflating: Data/Maths/Math_121.txt  \n",
            "  inflating: Data/Maths/Math_122.txt  \n",
            "  inflating: Data/Maths/Math_123.txt  \n",
            "  inflating: Data/Maths/Math_124.txt  \n",
            "  inflating: Data/Maths/Math_125.txt  \n",
            "  inflating: Data/Maths/Math_126.txt  \n",
            "  inflating: Data/Maths/Math_127.txt  \n",
            "  inflating: Data/Maths/Math_128.txt  \n",
            "  inflating: Data/Maths/Math_129.txt  \n",
            "  inflating: Data/Maths/Math_130.txt  \n",
            "  inflating: Data/Maths/Math_131.txt  \n",
            "  inflating: Data/Maths/Math_132.txt  \n",
            "  inflating: Data/Maths/Math_133.txt  \n",
            "  inflating: Data/Maths/Math_134.txt  \n",
            "  inflating: Data/Maths/Math_135.txt  \n",
            "  inflating: Data/Maths/Math_136.txt  \n",
            "  inflating: Data/Maths/Math_137.txt  \n",
            "  inflating: Data/Maths/Math_138.txt  \n",
            "  inflating: Data/Maths/Math_139.txt  \n",
            "  inflating: Data/Maths/Math_14.txt  \n",
            "  inflating: Data/Maths/Math_140.txt  \n",
            "  inflating: Data/Maths/Math_141.txt  \n",
            "  inflating: Data/Maths/Math_142.txt  \n",
            "  inflating: Data/Maths/Math_143.txt  \n",
            "  inflating: Data/Maths/Math_144.txt  \n",
            "  inflating: Data/Maths/Math_145.txt  \n",
            "  inflating: Data/Maths/Math_146.txt  \n",
            "  inflating: Data/Maths/Math_147.txt  \n",
            "  inflating: Data/Maths/Math_148.txt  \n",
            "  inflating: Data/Maths/Math_149.txt  \n",
            "  inflating: Data/Maths/Math_15.txt  \n",
            "  inflating: Data/Maths/Math_150.txt  \n",
            "  inflating: Data/Maths/Math_151.txt  \n",
            "  inflating: Data/Maths/Math_152.txt  \n",
            "  inflating: Data/Maths/Math_153.txt  \n",
            "  inflating: Data/Maths/Math_154.txt  \n",
            "  inflating: Data/Maths/Math_155.txt  \n",
            "  inflating: Data/Maths/Math_156.txt  \n",
            "  inflating: Data/Maths/Math_157.txt  \n",
            "  inflating: Data/Maths/Math_158.txt  \n",
            "  inflating: Data/Maths/Math_159.txt  \n",
            "  inflating: Data/Maths/Math_16.txt  \n",
            "  inflating: Data/Maths/Math_160.txt  \n",
            "  inflating: Data/Maths/Math_161.txt  \n",
            "  inflating: Data/Maths/Math_162.txt  \n",
            "  inflating: Data/Maths/Math_163.txt  \n",
            "  inflating: Data/Maths/Math_164.txt  \n",
            "  inflating: Data/Maths/Math_165.txt  \n",
            "  inflating: Data/Maths/Math_166.txt  \n",
            "  inflating: Data/Maths/Math_167.txt  \n",
            "  inflating: Data/Maths/Math_168.txt  \n",
            "  inflating: Data/Maths/Math_169.txt  \n",
            "  inflating: Data/Maths/Math_17.txt  \n",
            "  inflating: Data/Maths/Math_170.txt  \n",
            "  inflating: Data/Maths/Math_171.txt  \n",
            "  inflating: Data/Maths/Math_172.txt  \n",
            "  inflating: Data/Maths/Math_173.txt  \n",
            "  inflating: Data/Maths/Math_174.txt  \n",
            "  inflating: Data/Maths/Math_175.txt  \n",
            "  inflating: Data/Maths/Math_176.txt  \n",
            "  inflating: Data/Maths/Math_177.txt  \n",
            "  inflating: Data/Maths/Math_178.txt  \n",
            "  inflating: Data/Maths/Math_179.txt  \n",
            "  inflating: Data/Maths/Math_18.txt  \n",
            "  inflating: Data/Maths/Math_180.txt  \n",
            "  inflating: Data/Maths/Math_181.txt  \n",
            "  inflating: Data/Maths/Math_182.txt  \n",
            "  inflating: Data/Maths/Math_183.txt  \n",
            "  inflating: Data/Maths/Math_184.txt  \n",
            "  inflating: Data/Maths/Math_185.txt  \n",
            "  inflating: Data/Maths/Math_186.txt  \n",
            "  inflating: Data/Maths/Math_187.txt  \n",
            "  inflating: Data/Maths/Math_188.txt  \n",
            "  inflating: Data/Maths/Math_189.txt  \n",
            "  inflating: Data/Maths/Math_19.txt  \n",
            "  inflating: Data/Maths/Math_190.txt  \n",
            "  inflating: Data/Maths/Math_191.txt  \n",
            "  inflating: Data/Maths/Math_192.txt  \n",
            "  inflating: Data/Maths/Math_193.txt  \n",
            "  inflating: Data/Maths/Math_194.txt  \n",
            "  inflating: Data/Maths/Math_195.txt  \n",
            "  inflating: Data/Maths/Math_196.txt  \n",
            "  inflating: Data/Maths/Math_197.txt  \n",
            "  inflating: Data/Maths/Math_198.txt  \n",
            "  inflating: Data/Maths/Math_199.txt  \n",
            "  inflating: Data/Maths/Math_20.txt  \n",
            "  inflating: Data/Maths/Math_200.txt  \n",
            "  inflating: Data/Maths/Math_201.txt  \n",
            "  inflating: Data/Maths/Math_202.txt  \n",
            "  inflating: Data/Maths/Math_203.txt  \n",
            "  inflating: Data/Maths/Math_204.txt  \n",
            "  inflating: Data/Maths/Math_205.txt  \n",
            "  inflating: Data/Maths/Math_206.txt  \n",
            "  inflating: Data/Maths/Math_207.txt  \n",
            "  inflating: Data/Maths/Math_208.txt  \n",
            "  inflating: Data/Maths/Math_209.txt  \n",
            "  inflating: Data/Maths/Math_21.txt  \n",
            "  inflating: Data/Maths/Math_210.txt  \n",
            "  inflating: Data/Maths/Math_211.txt  \n",
            "  inflating: Data/Maths/Math_212.txt  \n",
            "  inflating: Data/Maths/Math_213.txt  \n",
            "  inflating: Data/Maths/Math_214.txt  \n",
            "  inflating: Data/Maths/Math_215.txt  \n",
            "  inflating: Data/Maths/Math_216.txt  \n",
            "  inflating: Data/Maths/Math_217.txt  \n",
            "  inflating: Data/Maths/Math_218.txt  \n",
            "  inflating: Data/Maths/Math_219.txt  \n",
            "  inflating: Data/Maths/Math_22.txt  \n",
            "  inflating: Data/Maths/Math_220.txt  \n",
            "  inflating: Data/Maths/Math_221.txt  \n",
            "  inflating: Data/Maths/Math_222.txt  \n",
            "  inflating: Data/Maths/Math_223.txt  \n",
            "  inflating: Data/Maths/Math_224.txt  \n",
            "  inflating: Data/Maths/Math_225.txt  \n",
            "  inflating: Data/Maths/Math_226.txt  \n",
            "  inflating: Data/Maths/Math_227.txt  \n",
            "  inflating: Data/Maths/Math_23.txt  \n",
            "  inflating: Data/Maths/Math_24.txt  \n",
            "  inflating: Data/Maths/Math_25.txt  \n",
            "  inflating: Data/Maths/Math_26.txt  \n",
            "  inflating: Data/Maths/Math_27.txt  \n",
            "  inflating: Data/Maths/Math_28.txt  \n",
            "  inflating: Data/Maths/Math_29.txt  \n",
            "  inflating: Data/Maths/Math_30.txt  \n",
            "  inflating: Data/Maths/Math_31.txt  \n",
            "  inflating: Data/Maths/Math_32.txt  \n",
            "  inflating: Data/Maths/Math_33.txt  \n",
            "  inflating: Data/Maths/Math_34.txt  \n",
            "  inflating: Data/Maths/Math_35.txt  \n",
            "  inflating: Data/Maths/Math_36.txt  \n",
            "  inflating: Data/Maths/Math_37.txt  \n",
            "  inflating: Data/Maths/Math_38.txt  \n",
            "  inflating: Data/Maths/Math_39.txt  \n",
            "  inflating: Data/Maths/Math_40.txt  \n",
            "  inflating: Data/Maths/Math_41.txt  \n",
            "  inflating: Data/Maths/Math_42.txt  \n",
            "  inflating: Data/Maths/Math_43.txt  \n",
            "  inflating: Data/Maths/Math_44.txt  \n",
            "  inflating: Data/Maths/Math_45.txt  \n",
            "  inflating: Data/Maths/Math_46.txt  \n",
            "  inflating: Data/Maths/Math_47.txt  \n",
            "  inflating: Data/Maths/Math_48.txt  \n",
            "  inflating: Data/Maths/Math_49.txt  \n",
            "  inflating: Data/Maths/Math_50.txt  \n",
            "  inflating: Data/Maths/Math_51.txt  \n",
            "  inflating: Data/Maths/Math_52.txt  \n",
            "  inflating: Data/Maths/Math_53.txt  \n",
            "  inflating: Data/Maths/Math_54.txt  \n",
            "  inflating: Data/Maths/Math_55.txt  \n",
            "  inflating: Data/Maths/Math_56.txt  \n",
            "  inflating: Data/Maths/Math_57.txt  \n",
            "  inflating: Data/Maths/Math_58.txt  \n",
            "  inflating: Data/Maths/Math_59.txt  \n",
            "  inflating: Data/Maths/Math_60.txt  \n",
            "  inflating: Data/Maths/Math_61.txt  \n",
            "  inflating: Data/Maths/Math_62.txt  \n",
            "  inflating: Data/Maths/Math_63.txt  \n",
            "  inflating: Data/Maths/Math_64.txt  \n",
            "  inflating: Data/Maths/Math_65.txt  \n",
            "  inflating: Data/Maths/Math_66.txt  \n",
            "  inflating: Data/Maths/Math_67.txt  \n",
            "  inflating: Data/Maths/Math_68.txt  \n",
            "  inflating: Data/Maths/Math_69.txt  \n",
            "  inflating: Data/Maths/Math_70.txt  \n",
            "  inflating: Data/Maths/Math_71.txt  \n",
            "  inflating: Data/Maths/Math_72.txt  \n",
            "  inflating: Data/Maths/Math_73.txt  \n",
            "  inflating: Data/Maths/Math_74.txt  \n",
            "  inflating: Data/Maths/Math_75.txt  \n",
            "  inflating: Data/Maths/Math_76.txt  \n",
            "  inflating: Data/Maths/Math_77.txt  \n",
            "  inflating: Data/Maths/Math_78.txt  \n",
            "  inflating: Data/Maths/Math_79.txt  \n",
            "  inflating: Data/Maths/Math_80.txt  \n",
            "  inflating: Data/Maths/Math_81.txt  \n",
            "  inflating: Data/Maths/Math_82.txt  \n",
            "  inflating: Data/Maths/Math_83.txt  \n",
            "  inflating: Data/Maths/Math_84.txt  \n",
            "  inflating: Data/Maths/Math_85.txt  \n",
            "  inflating: Data/Maths/Math_86.txt  \n",
            "  inflating: Data/Maths/Math_87.txt  \n",
            "  inflating: Data/Maths/Math_88.txt  \n",
            "  inflating: Data/Maths/Math_89.txt  \n",
            "  inflating: Data/Maths/Math_90.txt  \n",
            "  inflating: Data/Maths/Math_91.txt  \n",
            "  inflating: Data/Maths/Math_92.txt  \n",
            "  inflating: Data/Maths/Math_93.txt  \n",
            "  inflating: Data/Maths/Math_94.txt  \n",
            "  inflating: Data/Maths/Math_95.txt  \n",
            "  inflating: Data/Maths/Math_96.txt  \n",
            "  inflating: Data/Maths/Math_97.txt  \n",
            "  inflating: Data/Maths/Math_98.txt  \n",
            "  inflating: Data/Maths/Math_99.txt  \n"
          ],
          "name": "stdout"
        }
      ]
    },
    {
      "cell_type": "markdown",
      "metadata": {
        "id": "fK1w3R7cBR2a"
      },
      "source": [
        "Para la realización de esta actividad, utilizamos FastAI. Instalamos el componente e importamos sus librerías:"
      ]
    },
    {
      "cell_type": "code",
      "metadata": {
        "colab": {
          "base_uri": "https://localhost:8080/"
        },
        "id": "OymPryTY1LVZ",
        "outputId": "9104091c-56ef-49c9-e1c1-c4672149fb7f"
      },
      "source": [
        "!pip install fastai --upgrade"
      ],
      "execution_count": null,
      "outputs": [
        {
          "output_type": "stream",
          "text": [
            "Collecting fastai\n",
            "\u001b[?25l  Downloading https://files.pythonhosted.org/packages/e8/79/e8a87e4c20238e114671314426227db8647d2b42744eab79e0917c59865e/fastai-2.3.1-py3-none-any.whl (194kB)\n",
            "\r\u001b[K     |█▊                              | 10kB 16.9MB/s eta 0:00:01\r\u001b[K     |███▍                            | 20kB 16.0MB/s eta 0:00:01\r\u001b[K     |█████                           | 30kB 14.3MB/s eta 0:00:01\r\u001b[K     |██████▊                         | 40kB 12.8MB/s eta 0:00:01\r\u001b[K     |████████▍                       | 51kB 7.9MB/s eta 0:00:01\r\u001b[K     |██████████                      | 61kB 7.3MB/s eta 0:00:01\r\u001b[K     |███████████▉                    | 71kB 8.3MB/s eta 0:00:01\r\u001b[K     |█████████████▌                  | 81kB 8.8MB/s eta 0:00:01\r\u001b[K     |███████████████▏                | 92kB 9.0MB/s eta 0:00:01\r\u001b[K     |████████████████▉               | 102kB 7.6MB/s eta 0:00:01\r\u001b[K     |██████████████████▌             | 112kB 7.6MB/s eta 0:00:01\r\u001b[K     |████████████████████▏           | 122kB 7.6MB/s eta 0:00:01\r\u001b[K     |██████████████████████          | 133kB 7.6MB/s eta 0:00:01\r\u001b[K     |███████████████████████▋        | 143kB 7.6MB/s eta 0:00:01\r\u001b[K     |█████████████████████████▎      | 153kB 7.6MB/s eta 0:00:01\r\u001b[K     |███████████████████████████     | 163kB 7.6MB/s eta 0:00:01\r\u001b[K     |████████████████████████████▋   | 174kB 7.6MB/s eta 0:00:01\r\u001b[K     |██████████████████████████████▎ | 184kB 7.6MB/s eta 0:00:01\r\u001b[K     |████████████████████████████████| 194kB 7.6MB/s eta 0:00:01\r\u001b[K     |████████████████████████████████| 204kB 7.6MB/s \n",
            "\u001b[?25hRequirement already satisfied, skipping upgrade: matplotlib in /usr/local/lib/python3.7/dist-packages (from fastai) (3.2.2)\n",
            "Requirement already satisfied, skipping upgrade: scipy in /usr/local/lib/python3.7/dist-packages (from fastai) (1.4.1)\n",
            "Requirement already satisfied, skipping upgrade: torch<1.9,>=1.7.0 in /usr/local/lib/python3.7/dist-packages (from fastai) (1.8.1+cu101)\n",
            "Requirement already satisfied, skipping upgrade: pillow>6.0.0 in /usr/local/lib/python3.7/dist-packages (from fastai) (7.1.2)\n",
            "Requirement already satisfied, skipping upgrade: pip in /usr/local/lib/python3.7/dist-packages (from fastai) (19.3.1)\n",
            "Requirement already satisfied, skipping upgrade: torchvision>=0.8.2 in /usr/local/lib/python3.7/dist-packages (from fastai) (0.9.1+cu101)\n",
            "Requirement already satisfied, skipping upgrade: requests in /usr/local/lib/python3.7/dist-packages (from fastai) (2.23.0)\n",
            "Requirement already satisfied, skipping upgrade: scikit-learn in /usr/local/lib/python3.7/dist-packages (from fastai) (0.22.2.post1)\n",
            "Requirement already satisfied, skipping upgrade: spacy<4 in /usr/local/lib/python3.7/dist-packages (from fastai) (2.2.4)\n",
            "Requirement already satisfied, skipping upgrade: fastprogress>=0.2.4 in /usr/local/lib/python3.7/dist-packages (from fastai) (1.0.0)\n",
            "Requirement already satisfied, skipping upgrade: packaging in /usr/local/lib/python3.7/dist-packages (from fastai) (20.9)\n",
            "Requirement already satisfied, skipping upgrade: pyyaml in /usr/local/lib/python3.7/dist-packages (from fastai) (3.13)\n",
            "Requirement already satisfied, skipping upgrade: pandas in /usr/local/lib/python3.7/dist-packages (from fastai) (1.1.5)\n",
            "Collecting fastcore<1.4,>=1.3.8\n",
            "\u001b[?25l  Downloading https://files.pythonhosted.org/packages/d8/b0/f1fbf554e0bf3c76e1bdc3b82eedfe41fcf656479586be38c64421082b1b/fastcore-1.3.20-py3-none-any.whl (53kB)\n",
            "\u001b[K     |████████████████████████████████| 61kB 9.3MB/s \n",
            "\u001b[?25hRequirement already satisfied, skipping upgrade: cycler>=0.10 in /usr/local/lib/python3.7/dist-packages (from matplotlib->fastai) (0.10.0)\n",
            "Requirement already satisfied, skipping upgrade: numpy>=1.11 in /usr/local/lib/python3.7/dist-packages (from matplotlib->fastai) (1.19.5)\n",
            "Requirement already satisfied, skipping upgrade: kiwisolver>=1.0.1 in /usr/local/lib/python3.7/dist-packages (from matplotlib->fastai) (1.3.1)\n",
            "Requirement already satisfied, skipping upgrade: pyparsing!=2.0.4,!=2.1.2,!=2.1.6,>=2.0.1 in /usr/local/lib/python3.7/dist-packages (from matplotlib->fastai) (2.4.7)\n",
            "Requirement already satisfied, skipping upgrade: python-dateutil>=2.1 in /usr/local/lib/python3.7/dist-packages (from matplotlib->fastai) (2.8.1)\n",
            "Requirement already satisfied, skipping upgrade: typing-extensions in /usr/local/lib/python3.7/dist-packages (from torch<1.9,>=1.7.0->fastai) (3.7.4.3)\n",
            "Requirement already satisfied, skipping upgrade: certifi>=2017.4.17 in /usr/local/lib/python3.7/dist-packages (from requests->fastai) (2020.12.5)\n",
            "Requirement already satisfied, skipping upgrade: urllib3!=1.25.0,!=1.25.1,<1.26,>=1.21.1 in /usr/local/lib/python3.7/dist-packages (from requests->fastai) (1.24.3)\n",
            "Requirement already satisfied, skipping upgrade: chardet<4,>=3.0.2 in /usr/local/lib/python3.7/dist-packages (from requests->fastai) (3.0.4)\n",
            "Requirement already satisfied, skipping upgrade: idna<3,>=2.5 in /usr/local/lib/python3.7/dist-packages (from requests->fastai) (2.10)\n",
            "Requirement already satisfied, skipping upgrade: joblib>=0.11 in /usr/local/lib/python3.7/dist-packages (from scikit-learn->fastai) (1.0.1)\n",
            "Requirement already satisfied, skipping upgrade: tqdm<5.0.0,>=4.38.0 in /usr/local/lib/python3.7/dist-packages (from spacy<4->fastai) (4.41.1)\n",
            "Requirement already satisfied, skipping upgrade: srsly<1.1.0,>=1.0.2 in /usr/local/lib/python3.7/dist-packages (from spacy<4->fastai) (1.0.5)\n",
            "Requirement already satisfied, skipping upgrade: thinc==7.4.0 in /usr/local/lib/python3.7/dist-packages (from spacy<4->fastai) (7.4.0)\n",
            "Requirement already satisfied, skipping upgrade: murmurhash<1.1.0,>=0.28.0 in /usr/local/lib/python3.7/dist-packages (from spacy<4->fastai) (1.0.5)\n",
            "Requirement already satisfied, skipping upgrade: preshed<3.1.0,>=3.0.2 in /usr/local/lib/python3.7/dist-packages (from spacy<4->fastai) (3.0.5)\n",
            "Requirement already satisfied, skipping upgrade: blis<0.5.0,>=0.4.0 in /usr/local/lib/python3.7/dist-packages (from spacy<4->fastai) (0.4.1)\n",
            "Requirement already satisfied, skipping upgrade: catalogue<1.1.0,>=0.0.7 in /usr/local/lib/python3.7/dist-packages (from spacy<4->fastai) (1.0.0)\n",
            "Requirement already satisfied, skipping upgrade: cymem<2.1.0,>=2.0.2 in /usr/local/lib/python3.7/dist-packages (from spacy<4->fastai) (2.0.5)\n",
            "Requirement already satisfied, skipping upgrade: setuptools in /usr/local/lib/python3.7/dist-packages (from spacy<4->fastai) (57.0.0)\n",
            "Requirement already satisfied, skipping upgrade: wasabi<1.1.0,>=0.4.0 in /usr/local/lib/python3.7/dist-packages (from spacy<4->fastai) (0.8.2)\n",
            "Requirement already satisfied, skipping upgrade: plac<1.2.0,>=0.9.6 in /usr/local/lib/python3.7/dist-packages (from spacy<4->fastai) (1.1.3)\n",
            "Requirement already satisfied, skipping upgrade: pytz>=2017.2 in /usr/local/lib/python3.7/dist-packages (from pandas->fastai) (2018.9)\n",
            "Requirement already satisfied, skipping upgrade: six in /usr/local/lib/python3.7/dist-packages (from cycler>=0.10->matplotlib->fastai) (1.15.0)\n",
            "Requirement already satisfied, skipping upgrade: importlib-metadata>=0.20; python_version < \"3.8\" in /usr/local/lib/python3.7/dist-packages (from catalogue<1.1.0,>=0.0.7->spacy<4->fastai) (4.0.1)\n",
            "Requirement already satisfied, skipping upgrade: zipp>=0.5 in /usr/local/lib/python3.7/dist-packages (from importlib-metadata>=0.20; python_version < \"3.8\"->catalogue<1.1.0,>=0.0.7->spacy<4->fastai) (3.4.1)\n",
            "Installing collected packages: fastcore, fastai\n",
            "  Found existing installation: fastai 1.0.61\n",
            "    Uninstalling fastai-1.0.61:\n",
            "      Successfully uninstalled fastai-1.0.61\n",
            "Successfully installed fastai-2.3.1 fastcore-1.3.20\n"
          ],
          "name": "stdout"
        }
      ]
    },
    {
      "cell_type": "code",
      "metadata": {
        "id": "EXnfiIO61OJA"
      },
      "source": [
        "from fastai.text.all import *\n",
        "import os\n",
        "from google.colab import files\n",
        "from sklearn.model_selection import train_test_split\n",
        "import shutil"
      ],
      "execution_count": null,
      "outputs": []
    },
    {
      "cell_type": "markdown",
      "metadata": {
        "id": "6etz6IvpA7N1"
      },
      "source": [
        "## Conjuntos de entrenamiento y test"
      ]
    },
    {
      "cell_type": "markdown",
      "metadata": {
        "id": "PfFFjO9sBg0c"
      },
      "source": [
        "El primer requisito para entrenar un modelo con FastAI es el de separar los datos en carpetas de train y test. Establecemos el path donde tendremos dichas carpetas:"
      ]
    },
    {
      "cell_type": "code",
      "metadata": {
        "id": "X5l3_cq12nE4"
      },
      "source": [
        "path = Path('Data')"
      ],
      "execution_count": null,
      "outputs": []
    },
    {
      "cell_type": "markdown",
      "metadata": {
        "id": "K8C_e6PRB9Zt"
      },
      "source": [
        "Seguidamente, creamos las carpetas necesarias para los tres temas tanto en train como en test:"
      ]
    },
    {
      "cell_type": "code",
      "metadata": {
        "id": "yYER8vnYNQpd"
      },
      "source": [
        "(path/'train/Computer_Science').mkdir(parents=True,exist_ok=True)\n",
        "(path/'train/History').mkdir(parents=True,exist_ok=True)\n",
        "(path/'train/Maths').mkdir(parents=True,exist_ok=True)\n",
        "\n",
        "(path/'test/Computer_Science').mkdir(parents=True,exist_ok=True)\n",
        "(path/'test/History').mkdir(parents=True,exist_ok=True)\n",
        "(path/'test/Maths').mkdir(parents=True,exist_ok=True)"
      ],
      "execution_count": null,
      "outputs": []
    },
    {
      "cell_type": "markdown",
      "metadata": {
        "id": "JI4Gju0VCKp_"
      },
      "source": [
        "Con train_test_split separamos los datos en conjuntos de entrenamiento y de test. A dicha función, le indicamos que utilice un tamaño de test del 20%:"
      ]
    },
    {
      "cell_type": "code",
      "metadata": {
        "id": "1Dej7ApfNQnL"
      },
      "source": [
        "trainComputerScience, testComputerScience = train_test_split(get_text_files(path/'Computer_Science'),test_size=0.2,random_state=15)\n",
        "trainHistory, testHistory = train_test_split(get_text_files(path/'History'),test_size=0.2,random_state=15)\n",
        "trainMaths, testMaths = train_test_split(get_text_files(path/'Maths'),test_size=0.2,random_state=15)"
      ],
      "execution_count": null,
      "outputs": []
    },
    {
      "cell_type": "markdown",
      "metadata": {
        "id": "xphhSS96Ccgt"
      },
      "source": [
        "La anterior función nos separa los identificadores (o las referencias) de los datos en conjuntos de entrenamiento y de test, pero ahora debemos moverlos a sus respectivas carpetas:"
      ]
    },
    {
      "cell_type": "code",
      "metadata": {
        "id": "V63iAEqgNQkv"
      },
      "source": [
        "for x in trainComputerScience:\n",
        "  shutil.move(str(x),path/('train/Computer_Science/'+x.name))\n",
        "\n",
        "for x in trainHistory:\n",
        "  shutil.move(str(x),path/('train/History/'+x.name))\n",
        "\n",
        "for x in trainMaths:\n",
        "  shutil.move(str(x),path/('train/Maths/'+x.name))\n",
        "\n",
        "for x in testComputerScience:\n",
        "  shutil.move(str(x),path/('test/Computer_Science/'+x.name))\n",
        "\n",
        "for x in testHistory:\n",
        "  shutil.move(str(x),path/('test/History/'+x.name))\n",
        "\n",
        "for x in testMaths:\n",
        "  shutil.move(str(x),path/('test/Maths/'+x.name))"
      ],
      "execution_count": null,
      "outputs": []
    },
    {
      "cell_type": "markdown",
      "metadata": {
        "id": "8UVw94r5EVKC"
      },
      "source": [
        "Los directorios antiguos ya no son necesarios, por lo que los eliminamos."
      ]
    },
    {
      "cell_type": "code",
      "metadata": {
        "id": "AYWLTI7zNQio"
      },
      "source": [
        "shutil.rmtree('Data/Computer_Science')\n",
        "shutil.rmtree('Data/History')\n",
        "shutil.rmtree('Data/Maths')"
      ],
      "execution_count": null,
      "outputs": []
    },
    {
      "cell_type": "markdown",
      "metadata": {
        "id": "Z9JZbcQSEjKO"
      },
      "source": [
        "## Modelo de lenguaje"
      ]
    },
    {
      "cell_type": "markdown",
      "metadata": {
        "id": "Xyo1sonlEsFz"
      },
      "source": [
        "Para crear el modelo de lenguaje, necesitamos realizar 4 pasos: \"Tokenización\", \"Numericalización\", \"Organizar el dataset\" y \"Construir el modelo\". Los tres primeros pasos no son necesarios, puesto que FastAI se encarga de realizarlos automáticamente en el cuarto paso. Aún así, veamos con detalle dicho proceso."
      ]
    },
    {
      "cell_type": "markdown",
      "metadata": {
        "id": "QDigY_tMFE6S"
      },
      "source": [
        "Empezamos por la Tokenización. Puesto que nos interesa tener un vocabulario lo más amplio posible, tomamos todos los ficheros de las carpetas train y test:"
      ]
    },
    {
      "cell_type": "code",
      "metadata": {
        "id": "CM3oiQfjNQfr"
      },
      "source": [
        "files = get_text_files(path, folders = ['train', 'test'])"
      ],
      "execution_count": null,
      "outputs": []
    },
    {
      "cell_type": "markdown",
      "metadata": {
        "id": "PY61boSvGHZT"
      },
      "source": [
        "FastAI cuenta con su propio tokenizador, el cual cuenta con los dos siguientes pasos:"
      ]
    },
    {
      "cell_type": "code",
      "metadata": {
        "id": "jnxW9LdiNQdo"
      },
      "source": [
        "wt = WordTokenizer()\n",
        "tkn = Tokenizer(wt)"
      ],
      "execution_count": null,
      "outputs": []
    },
    {
      "cell_type": "markdown",
      "metadata": {
        "id": "gHWdqltDGXsQ"
      },
      "source": [
        "WordTokenizer() separa un texto en una lista de palabras, y Tokenizer() pasa todas las palabras a minúsculas, además de añadir ciertos tokens especiales empezados por 'xx'. Estos tokens indican ocurrencias en el texto: 'xxbos' indica el comienzo de un texto, 'xxunk' indica que la siguiente palabra es desconocida, etc."
      ]
    },
    {
      "cell_type": "markdown",
      "metadata": {
        "id": "xpu1g1HBHKB6"
      },
      "source": [
        "El siguiente paso es la Numericalización, que consiste en asignar un identificador a cada token utilizando la clase Numericalize. Pero antes, debemos construir nuestro vocabulario, para lo que utilizaré las 300 primeras palabras del dataset:"
      ]
    },
    {
      "cell_type": "code",
      "metadata": {
        "id": "VY3Owj0ONQbU"
      },
      "source": [
        "txts = L(o.open().read() for o in files[:2000])\n",
        "toks300 = txts[:300].map(tkn)\n",
        "num = Numericalize()\n",
        "num.setup(toks300)"
      ],
      "execution_count": null,
      "outputs": []
    },
    {
      "cell_type": "markdown",
      "metadata": {
        "id": "bHhgZTxVKI3B"
      },
      "source": [
        "Para comprobar que se haya realizado correctamente, con la siguiente instrucción podemos ver las 20 primeras palabras del vocabulario:"
      ]
    },
    {
      "cell_type": "code",
      "metadata": {
        "colab": {
          "base_uri": "https://localhost:8080/",
          "height": 52
        },
        "id": "pwPovfwONQYN",
        "outputId": "9c924714-6be9-4002-daf5-9c3c915ff159"
      },
      "source": [
        "coll_repr(num.vocab,20)"
      ],
      "execution_count": null,
      "outputs": [
        {
          "output_type": "execute_result",
          "data": {
            "application/vnd.google.colaboratory.intrinsic+json": {
              "type": "string"
            },
            "text/plain": [
              "\"(#3576) ['xxunk','xxpad','xxbos','xxeos','xxfld','xxrep','xxwrep','xxup','xxmaj','\\\\n','the',',','.','to','of','a','and','in','is','-'...]\""
            ]
          },
          "metadata": {
            "tags": []
          },
          "execution_count": 13
        }
      ]
    },
    {
      "cell_type": "markdown",
      "metadata": {
        "id": "avGqb78qKgsz"
      },
      "source": [
        "El tercer paso es el de organizar el dataset en batches. Debemos obtener la X (secuencia de palabras numericalizadas de la primera a la penúltima) y la Y (secuencia de la segunda a la última) de nuestro dataset. Para ello, se utiliza la clase LMDataLoader:"
      ]
    },
    {
      "cell_type": "code",
      "metadata": {
        "id": "UD2Rt3wxNQVr"
      },
      "source": [
        "nums300 = toks300.map(num)\n",
        "dl = LMDataLoader(nums300)"
      ],
      "execution_count": null,
      "outputs": []
    },
    {
      "cell_type": "markdown",
      "metadata": {
        "id": "AsK1VZT9MYoz"
      },
      "source": [
        "Dicho objeto que hemos construido parte el texto en bloques (o batches) de tamaño 64 por defecto, aunque más adelante veremos que podemos modificar ese número."
      ]
    },
    {
      "cell_type": "code",
      "metadata": {
        "colab": {
          "base_uri": "https://localhost:8080/"
        },
        "id": "nMN9aJB5NQTm",
        "outputId": "bf83cc17-206d-42b0-c979-453d116e718e"
      },
      "source": [
        "x,y = first(dl)\n",
        "x.shape,y.shape"
      ],
      "execution_count": null,
      "outputs": [
        {
          "output_type": "execute_result",
          "data": {
            "text/plain": [
              "(torch.Size([64, 72]), torch.Size([64, 72]))"
            ]
          },
          "metadata": {
            "tags": []
          },
          "execution_count": 15
        }
      ]
    },
    {
      "cell_type": "markdown",
      "metadata": {
        "id": "1OxCJco7Ls3c"
      },
      "source": [
        "La siguiente instrucción sirve simplemente para ver los bloques X e Y, y comprobar así que estan desplazados un token entre sí."
      ]
    },
    {
      "cell_type": "code",
      "metadata": {
        "colab": {
          "base_uri": "https://localhost:8080/"
        },
        "id": "5gQOlBdmLtQI",
        "outputId": "0b703113-a485-42cf-82fa-935961c195e8"
      },
      "source": [
        "print(' '.join(num.vocab[o] for o in x[0][:20]))\n",
        "print(' '.join(num.vocab[o] for o in y[0][:20]))"
      ],
      "execution_count": null,
      "outputs": [
        {
          "output_type": "stream",
          "text": [
            "xxbos 2.1 xxmaj introduction 48 \n",
            " 2.2 xxmaj operations of the xxmaj computer xxmaj hardware 49 \n",
            " 2.3 xxmaj operands\n",
            "2.1 xxmaj introduction 48 \n",
            " 2.2 xxmaj operations of the xxmaj computer xxmaj hardware 49 \n",
            " 2.3 xxmaj operands of\n"
          ],
          "name": "stdout"
        }
      ]
    },
    {
      "cell_type": "markdown",
      "metadata": {
        "id": "gbY5SKNBMMWa"
      },
      "source": [
        "Hasta este punto, todo lo anterior no sería necesario al trabajar con FastAI."
      ]
    },
    {
      "cell_type": "markdown",
      "metadata": {
        "id": "A65kjVX6M8TP"
      },
      "source": [
        "El último paso, sería el de Construir el modelo, el cual veremos a continuación."
      ]
    },
    {
      "cell_type": "markdown",
      "metadata": {
        "id": "2p9E2oFSNERq"
      },
      "source": [
        "## Construir el modelo"
      ]
    },
    {
      "cell_type": "markdown",
      "metadata": {
        "id": "ajWJvr0lNHD0"
      },
      "source": [
        "Con FastAI este sería el único paso que deberíamos realizar. Para comenzar, cargamos los datos (igual que realizamos en el primer paso del proceso) y, seguidamente, creamos el bloque de datos con la clase DataBlock."
      ]
    },
    {
      "cell_type": "code",
      "metadata": {
        "colab": {
          "base_uri": "https://localhost:8080/",
          "height": 17
        },
        "id": "Zpf0VriyNQQn",
        "outputId": "0974b0fa-66e6-4d98-e8fe-26875618f83c"
      },
      "source": [
        "get_text = partial(get_text_files, folders=['train', 'test'])\n",
        "\n",
        "dls_lm = DataBlock(blocks=TextBlock.from_folder(path, is_lm=True),\n",
        "                  get_items=get_text, \n",
        "                  splitter=RandomSplitter(0.1)).dataloaders(path, path=path, bs=128, seq_len=80)"
      ],
      "execution_count": null,
      "outputs": [
        {
          "output_type": "display_data",
          "data": {
            "text/html": [
              ""
            ],
            "text/plain": [
              "<IPython.core.display.HTML object>"
            ]
          },
          "metadata": {
            "tags": []
          }
        }
      ]
    },
    {
      "cell_type": "markdown",
      "metadata": {
        "id": "c-kgBvjkNXdG"
      },
      "source": [
        "Podemos apreciar que en el objeto DataBlock hay una serie de parámetros que podemos ajustar, en concreto el 'bs' (o batch_size) que mencioné anteriormente."
      ]
    },
    {
      "cell_type": "markdown",
      "metadata": {
        "id": "iXLodKZYNm5W"
      },
      "source": [
        "Para comprobar que se ha realizado correctamente, podemos ver un par de elementos del batch:"
      ]
    },
    {
      "cell_type": "code",
      "metadata": {
        "colab": {
          "base_uri": "https://localhost:8080/",
          "height": 315
        },
        "id": "gVYb565zNQLT",
        "outputId": "dc87765e-0651-4ed2-d074-2e4c4f9bccd4"
      },
      "source": [
        "dls_lm.show_batch(max_n=2)"
      ],
      "execution_count": null,
      "outputs": [
        {
          "output_type": "display_data",
          "data": {
            "text/html": [
              "<table border=\"1\" class=\"dataframe\">\n",
              "  <thead>\n",
              "    <tr style=\"text-align: right;\">\n",
              "      <th></th>\n",
              "      <th>text</th>\n",
              "      <th>text_</th>\n",
              "    </tr>\n",
              "  </thead>\n",
              "  <tbody>\n",
              "    <tr>\n",
              "      <th>0</th>\n",
              "      <td>xxbos xxmaj glossary xxup xxunk \\n global pointer xxmaj the register that is reserved ito instructions a dedicated instruction \\n to point to static data . that is used to give a command to an 110 de \\n guard xxmaj the first oftwo xxunk : ra bits kept on the vice and that specifies both the device num \\n right during intermediate calculations of ber and the command word ( or xxunk \\n floating - point numbers ; used to</td>\n",
              "      <td>xxmaj glossary xxup xxunk \\n global pointer xxmaj the register that is reserved ito instructions a dedicated instruction \\n to point to static data . that is used to give a command to an 110 de \\n guard xxmaj the first oftwo xxunk : ra bits kept on the vice and that specifies both the device num \\n right during intermediate calculations of ber and the command word ( or xxunk \\n floating - point numbers ; used to improve</td>\n",
              "    </tr>\n",
              "    <tr>\n",
              "      <th>1</th>\n",
              "      <td>he was active in the xxmaj xxunk xxmaj club , a branch \\n violated by rejection of an abortion . xxmaj finally , xxmaj rehnquist of the xxmaj young xxmaj communists xxmaj league , and later joined the \\n felt that the xxmaj court ruling in favor of legal abortion was xxmaj american xxmaj communist xxmaj party . xxmaj rosenberg was a civilian \\n too sweeping of an act for a judicial body . employee of the xxup u.s .</td>\n",
              "      <td>was active in the xxmaj xxunk xxmaj club , a branch \\n violated by rejection of an abortion . xxmaj finally , xxmaj rehnquist of the xxmaj young xxmaj communists xxmaj league , and later joined the \\n felt that the xxmaj court ruling in favor of legal abortion was xxmaj american xxmaj communist xxmaj party . xxmaj rosenberg was a civilian \\n too sweeping of an act for a judicial body . employee of the xxup u.s . xxmaj</td>\n",
              "    </tr>\n",
              "  </tbody>\n",
              "</table>"
            ],
            "text/plain": [
              "<IPython.core.display.HTML object>"
            ]
          },
          "metadata": {
            "tags": []
          }
        }
      ]
    },
    {
      "cell_type": "markdown",
      "metadata": {
        "id": "0I-qaJ-zNymL"
      },
      "source": [
        "A continuación, construimos un objeto Learner que nos permita usar un modelo RNN."
      ]
    },
    {
      "cell_type": "code",
      "metadata": {
        "colab": {
          "base_uri": "https://localhost:8080/",
          "height": 17
        },
        "id": "h0KK4ZM5NQI2",
        "outputId": "c10ed671-33ff-41f2-e9fd-9d9f8d2309a3"
      },
      "source": [
        "learn = language_model_learner(\n",
        "    dls_lm, AWD_LSTM, drop_mult=0.3, \n",
        "    metrics=[accuracy,Perplexity()]).to_fp16()"
      ],
      "execution_count": null,
      "outputs": [
        {
          "output_type": "display_data",
          "data": {
            "text/html": [
              ""
            ],
            "text/plain": [
              "<IPython.core.display.HTML object>"
            ]
          },
          "metadata": {
            "tags": []
          }
        }
      ]
    },
    {
      "cell_type": "markdown",
      "metadata": {
        "id": "ZFVni2tuOAtC"
      },
      "source": [
        "El siguiente paso es el de entrenar la red. Vamos a empezar entrenando sólo las últimas capas del modelo:"
      ]
    },
    {
      "cell_type": "code",
      "metadata": {
        "colab": {
          "base_uri": "https://localhost:8080/",
          "height": 80
        },
        "id": "1mXtkNnTNQGY",
        "outputId": "1fa43257-576e-41bc-e36d-63ceaed09f0e"
      },
      "source": [
        "learn.fit_one_cycle(1, 2e-2)"
      ],
      "execution_count": null,
      "outputs": [
        {
          "output_type": "display_data",
          "data": {
            "text/html": [
              "<table border=\"1\" class=\"dataframe\">\n",
              "  <thead>\n",
              "    <tr style=\"text-align: left;\">\n",
              "      <th>epoch</th>\n",
              "      <th>train_loss</th>\n",
              "      <th>valid_loss</th>\n",
              "      <th>accuracy</th>\n",
              "      <th>perplexity</th>\n",
              "      <th>time</th>\n",
              "    </tr>\n",
              "  </thead>\n",
              "  <tbody>\n",
              "    <tr>\n",
              "      <td>0</td>\n",
              "      <td>4.270823</td>\n",
              "      <td>4.066672</td>\n",
              "      <td>0.295006</td>\n",
              "      <td>58.362427</td>\n",
              "      <td>00:22</td>\n",
              "    </tr>\n",
              "  </tbody>\n",
              "</table>"
            ],
            "text/plain": [
              "<IPython.core.display.HTML object>"
            ]
          },
          "metadata": {
            "tags": []
          }
        }
      ]
    },
    {
      "cell_type": "markdown",
      "metadata": {
        "id": "qZaHIkCxOX_z"
      },
      "source": [
        "Seguimos entrenándolo, pero esta vez descongelando la red y entrenándola al completo:"
      ]
    },
    {
      "cell_type": "code",
      "metadata": {
        "colab": {
          "base_uri": "https://localhost:8080/",
          "height": 359
        },
        "id": "je77lFiKNQEE",
        "outputId": "311795b1-b763-4b43-fe1b-e84dee28a30d"
      },
      "source": [
        "learn.unfreeze()\n",
        "learn.fit_one_cycle(10, 2e-3)"
      ],
      "execution_count": null,
      "outputs": [
        {
          "output_type": "display_data",
          "data": {
            "text/html": [
              "<table border=\"1\" class=\"dataframe\">\n",
              "  <thead>\n",
              "    <tr style=\"text-align: left;\">\n",
              "      <th>epoch</th>\n",
              "      <th>train_loss</th>\n",
              "      <th>valid_loss</th>\n",
              "      <th>accuracy</th>\n",
              "      <th>perplexity</th>\n",
              "      <th>time</th>\n",
              "    </tr>\n",
              "  </thead>\n",
              "  <tbody>\n",
              "    <tr>\n",
              "      <td>0</td>\n",
              "      <td>3.676642</td>\n",
              "      <td>3.903970</td>\n",
              "      <td>0.314135</td>\n",
              "      <td>49.598980</td>\n",
              "      <td>00:24</td>\n",
              "    </tr>\n",
              "    <tr>\n",
              "      <td>1</td>\n",
              "      <td>3.557436</td>\n",
              "      <td>3.866117</td>\n",
              "      <td>0.317379</td>\n",
              "      <td>47.756611</td>\n",
              "      <td>00:24</td>\n",
              "    </tr>\n",
              "    <tr>\n",
              "      <td>2</td>\n",
              "      <td>3.354585</td>\n",
              "      <td>3.746511</td>\n",
              "      <td>0.333846</td>\n",
              "      <td>42.373005</td>\n",
              "      <td>00:24</td>\n",
              "    </tr>\n",
              "    <tr>\n",
              "      <td>3</td>\n",
              "      <td>3.097387</td>\n",
              "      <td>3.716426</td>\n",
              "      <td>0.340840</td>\n",
              "      <td>41.117184</td>\n",
              "      <td>00:24</td>\n",
              "    </tr>\n",
              "    <tr>\n",
              "      <td>4</td>\n",
              "      <td>2.830359</td>\n",
              "      <td>3.760924</td>\n",
              "      <td>0.339902</td>\n",
              "      <td>42.988132</td>\n",
              "      <td>00:24</td>\n",
              "    </tr>\n",
              "    <tr>\n",
              "      <td>5</td>\n",
              "      <td>2.643018</td>\n",
              "      <td>3.941038</td>\n",
              "      <td>0.328443</td>\n",
              "      <td>51.471985</td>\n",
              "      <td>00:24</td>\n",
              "    </tr>\n",
              "    <tr>\n",
              "      <td>6</td>\n",
              "      <td>2.390057</td>\n",
              "      <td>3.898719</td>\n",
              "      <td>0.338314</td>\n",
              "      <td>49.339184</td>\n",
              "      <td>00:24</td>\n",
              "    </tr>\n",
              "    <tr>\n",
              "      <td>7</td>\n",
              "      <td>2.187838</td>\n",
              "      <td>3.958327</td>\n",
              "      <td>0.336543</td>\n",
              "      <td>52.369640</td>\n",
              "      <td>00:25</td>\n",
              "    </tr>\n",
              "    <tr>\n",
              "      <td>8</td>\n",
              "      <td>2.055951</td>\n",
              "      <td>4.000899</td>\n",
              "      <td>0.336129</td>\n",
              "      <td>54.647247</td>\n",
              "      <td>00:25</td>\n",
              "    </tr>\n",
              "    <tr>\n",
              "      <td>9</td>\n",
              "      <td>1.984059</td>\n",
              "      <td>4.019126</td>\n",
              "      <td>0.335129</td>\n",
              "      <td>55.652443</td>\n",
              "      <td>00:25</td>\n",
              "    </tr>\n",
              "  </tbody>\n",
              "</table>"
            ],
            "text/plain": [
              "<IPython.core.display.HTML object>"
            ]
          },
          "metadata": {
            "tags": []
          }
        }
      ]
    },
    {
      "cell_type": "markdown",
      "metadata": {
        "id": "z4X4VOQPSPhW"
      },
      "source": [
        "Obtenemos una precisión del 33% que, a pesar del alto sobreajuste de este modelo, es un resultado bastante bueno."
      ]
    },
    {
      "cell_type": "markdown",
      "metadata": {
        "id": "JJiY9aPJOkcr"
      },
      "source": [
        "Para crear nuestro modelo de clasificación, no necesitamos la última capa de nuestro modelo. Con la siguiente instrucción, guardamos el modelo sin dicha capa. A esto se le conoce como \"encoder\"."
      ]
    },
    {
      "cell_type": "code",
      "metadata": {
        "id": "EcOtkrDTNQBh"
      },
      "source": [
        "learn.save_encoder('finetuned')"
      ],
      "execution_count": null,
      "outputs": []
    },
    {
      "cell_type": "markdown",
      "metadata": {
        "id": "r714KUdiPGMQ"
      },
      "source": [
        "Las dos siguientes instrucciones no son necesarias, sirven exclusivamente para guardar el modelo al completo en caso de querer reanudar la ejecución de este cuaderno desde este punto. La anterior instrucción ya guarda el modelo, salvo que sin su última capa."
      ]
    },
    {
      "cell_type": "code",
      "metadata": {
        "id": "cIlETqfripYK"
      },
      "source": [
        "learn.export('model_subjects.pkl')"
      ],
      "execution_count": null,
      "outputs": []
    },
    {
      "cell_type": "code",
      "metadata": {
        "colab": {
          "base_uri": "https://localhost:8080/"
        },
        "id": "G-L8-IsairOr",
        "outputId": "d6876f5c-43fd-4a08-f7f4-cb76b6de3717"
      },
      "source": [
        "Path().ls(file_exts='.pkl')"
      ],
      "execution_count": null,
      "outputs": [
        {
          "output_type": "execute_result",
          "data": {
            "text/plain": [
              "(#0) []"
            ]
          },
          "metadata": {
            "tags": []
          },
          "execution_count": 24
        }
      ]
    },
    {
      "cell_type": "markdown",
      "metadata": {
        "id": "FodsOK6tPaJt"
      },
      "source": [
        "Para crear el clasificador, primero debemos cargar los datos."
      ]
    },
    {
      "cell_type": "code",
      "metadata": {
        "id": "yntJ3J2adagj"
      },
      "source": [
        "dls_clas = DataBlock(\n",
        "    blocks=(TextBlock.from_folder(path, vocab=dls_lm.vocab),CategoryBlock),\n",
        "    get_y = parent_label,\n",
        "    get_items=partial(get_text_files, folders=['train', 'test']),\n",
        "    splitter=GrandparentSplitter(valid_name='test')\n",
        ").dataloaders(path, path=path, bs=128, seq_len=72)"
      ],
      "execution_count": null,
      "outputs": []
    },
    {
      "cell_type": "markdown",
      "metadata": {
        "id": "YPMm7WHhPkZH"
      },
      "source": [
        "Para comprobar que se ha realizado correctamente, mostramos un batch del bloque anterior:"
      ]
    },
    {
      "cell_type": "code",
      "metadata": {
        "colab": {
          "base_uri": "https://localhost:8080/",
          "height": 448
        },
        "id": "4LcQi_r5PkzC",
        "outputId": "fdd519b7-229b-44ae-eb63-242e989fcb8d"
      },
      "source": [
        "dls_clas.show_batch(max_n=3)"
      ],
      "execution_count": null,
      "outputs": [
        {
          "output_type": "display_data",
          "data": {
            "text/html": [
              "<table border=\"1\" class=\"dataframe\">\n",
              "  <thead>\n",
              "    <tr style=\"text-align: right;\">\n",
              "      <th></th>\n",
              "      <th>text</th>\n",
              "      <th>category</th>\n",
              "    </tr>\n",
              "  </thead>\n",
              "  <tbody>\n",
              "    <tr>\n",
              "      <th>0</th>\n",
              "      <td>xxbos \u0018\u00180 \\t▁ literature \\n xxmaj hanoi ; xxmaj norman xxmaj xxunk , author of xxmaj armies \\t of \\t the \\t xxmaj night ; from xxmaj ireland , in 1995 ; and xxup j. xxup m. xxmaj xxunk , author of \\n xxmaj james xxmaj xxunk ; xxmaj chaim xxmaj xxunk ; xxup j. xxup d. xxmaj xxunk , author of xxmaj the \\t xxmaj life \\t and \\t xxmaj times \\t of \\t xxmaj michael \\t xxup k , from xxmaj south xxmaj africa , \\n xxmaj the \\t xxmaj xxunk \\t in \\t the \\t xxmaj xxunk ; xxmaj john xxmaj xxunk , author of xxmaj xxunk , \\t▁ in 2003 . xxmaj prolific xxmaj south xxmaj african writer xxmaj xxunk xxmaj xxunk , \\n xxmaj run and xxmaj the \\t xxmaj xxunk \\t of \\t xxmaj xxunk ; xxmaj gore xxmaj xxunk , author author of</td>\n",
              "      <td>History</td>\n",
              "    </tr>\n",
              "    <tr>\n",
              "      <th>1</th>\n",
              "      <td>xxbos xxmaj indonesian \\t xxmaj communist \\t xxmaj party \\t ( pki ) \\t▁ \u001805 \\n xxmaj trail passing through xxmaj laos and xxmaj cambodia was the main xxmaj vietnam . xxmaj the xxmaj paris xxmaj peace xxmaj agreements on xxmaj vietnam were \\n supply route for xxmaj north xxmaj vietnam to send xxunk xxunk signed on xxmaj january 27 , 1973 . xxmaj it was only a matter of \\n ing supplies to the xxmaj vietcong in xxmaj south xxmaj vietnam . time before the communists would xxunk the final vic- \\n xxmaj the xxup u.s . commitment to xxmaj south xxmaj vietnam strength- tory . xxmaj on xxmaj april 30 , 1975 , communist forces entered the \\n ened during xxmaj president xxmaj john xxup f. xxmaj kennedy ’s administra- xxmaj south xxmaj vietnamese capital of xxmaj saigon . xxmaj the two xxmaj vietnams \\n tion ( xxunk</td>\n",
              "      <td>History</td>\n",
              "    </tr>\n",
              "    <tr>\n",
              "      <th>2</th>\n",
              "      <td>xxbos xxrep 3 \u0018 \\t▁ literature \\n of xxmaj china ( prc ) . xxmaj lin continued to play a major role in as “ airport fiction , ” describing books that were sold \\n both the government and the military and commanded to air xxunk with plenty of time to occupy . xxmaj digital \\n “ volunteers ” from xxmaj china in the xxmaj korean xxmaj war ( 1950 – books in particular have allowed access to many old \\n 53 ) ; he was promoted to the rank of marshal . and formerly out - of - print books and offer xxunk \\n xxmaj in 1968 xxmaj mao embarked on the xxmaj great xxmaj xxunk xxunk functions giving readers and scholars the \\n ian xxmaj cultural xxmaj revolution to attack his critics and ability to find information more quickly . xxmaj while this \\n regain control of the</td>\n",
              "      <td>History</td>\n",
              "    </tr>\n",
              "  </tbody>\n",
              "</table>"
            ],
            "text/plain": [
              "<IPython.core.display.HTML object>"
            ]
          },
          "metadata": {
            "tags": []
          }
        }
      ]
    },
    {
      "cell_type": "markdown",
      "metadata": {
        "id": "JIOvL_IJPrcv"
      },
      "source": [
        "Construimos nuestro Learner (de igual forma que antes):"
      ]
    },
    {
      "cell_type": "code",
      "metadata": {
        "id": "dd0nnR4Vdaea"
      },
      "source": [
        "learn = text_classifier_learner(dls_clas, AWD_LSTM, drop_mult=0.5, \n",
        "                                metrics=accuracy).to_fp16()"
      ],
      "execution_count": null,
      "outputs": []
    },
    {
      "cell_type": "markdown",
      "metadata": {
        "id": "P9Q5QCxWP0XY"
      },
      "source": [
        "Ahora, para entrenarlo, cargamos el encoder guardado anteriormente:"
      ]
    },
    {
      "cell_type": "code",
      "metadata": {
        "id": "2rUb5GvsdabJ"
      },
      "source": [
        "learn = learn.load_encoder('finetuned')"
      ],
      "execution_count": null,
      "outputs": []
    },
    {
      "cell_type": "markdown",
      "metadata": {
        "id": "lv2zoqnTP5mS"
      },
      "source": [
        "Ya podemos entrenar el clasificador, y comenzamos entrenando la última capa:"
      ]
    },
    {
      "cell_type": "code",
      "metadata": {
        "colab": {
          "base_uri": "https://localhost:8080/",
          "height": 80
        },
        "id": "IN2okl2IdaYf",
        "outputId": "6f3c4f8c-1c63-43ef-c0a0-4e45ba2a6156"
      },
      "source": [
        "learn.fit_one_cycle(1, 2e-2)"
      ],
      "execution_count": null,
      "outputs": [
        {
          "output_type": "display_data",
          "data": {
            "text/html": [
              "<table border=\"1\" class=\"dataframe\">\n",
              "  <thead>\n",
              "    <tr style=\"text-align: left;\">\n",
              "      <th>epoch</th>\n",
              "      <th>train_loss</th>\n",
              "      <th>valid_loss</th>\n",
              "      <th>accuracy</th>\n",
              "      <th>time</th>\n",
              "    </tr>\n",
              "  </thead>\n",
              "  <tbody>\n",
              "    <tr>\n",
              "      <td>0</td>\n",
              "      <td>0.930032</td>\n",
              "      <td>0.686385</td>\n",
              "      <td>0.753676</td>\n",
              "      <td>00:04</td>\n",
              "    </tr>\n",
              "  </tbody>\n",
              "</table>"
            ],
            "text/plain": [
              "<IPython.core.display.HTML object>"
            ]
          },
          "metadata": {
            "tags": []
          }
        }
      ]
    },
    {
      "cell_type": "markdown",
      "metadata": {
        "id": "QmYh66mWQI_S"
      },
      "source": [
        "Podemos ver que la precisión es alta, pero que tenemos un alto subajuste."
      ]
    },
    {
      "cell_type": "markdown",
      "metadata": {
        "id": "9UG8pTBRP_4q"
      },
      "source": [
        "Descongelamos dos capas, y volvemos a entrenar:"
      ]
    },
    {
      "cell_type": "code",
      "metadata": {
        "colab": {
          "base_uri": "https://localhost:8080/",
          "height": 80
        },
        "id": "v3EY3_R4daJy",
        "outputId": "a9947522-7bc0-4466-c7c3-bf7f3febaba4"
      },
      "source": [
        "learn.freeze_to(-2)\n",
        "learn.fit_one_cycle(1, slice(1e-2/(2.6**4),1e-2))"
      ],
      "execution_count": null,
      "outputs": [
        {
          "output_type": "display_data",
          "data": {
            "text/html": [
              "<table border=\"1\" class=\"dataframe\">\n",
              "  <thead>\n",
              "    <tr style=\"text-align: left;\">\n",
              "      <th>epoch</th>\n",
              "      <th>train_loss</th>\n",
              "      <th>valid_loss</th>\n",
              "      <th>accuracy</th>\n",
              "      <th>time</th>\n",
              "    </tr>\n",
              "  </thead>\n",
              "  <tbody>\n",
              "    <tr>\n",
              "      <td>0</td>\n",
              "      <td>0.769494</td>\n",
              "      <td>0.377360</td>\n",
              "      <td>0.996324</td>\n",
              "      <td>00:05</td>\n",
              "    </tr>\n",
              "  </tbody>\n",
              "</table>"
            ],
            "text/plain": [
              "<IPython.core.display.HTML object>"
            ]
          },
          "metadata": {
            "tags": []
          }
        }
      ]
    },
    {
      "cell_type": "markdown",
      "metadata": {
        "id": "mMQqInckQNxA"
      },
      "source": [
        "La precisión sigue siendo alta, y el subajuste ahora es menor."
      ]
    },
    {
      "cell_type": "markdown",
      "metadata": {
        "id": "bSpt3vwHQSeQ"
      },
      "source": [
        "Descongelamos tres capas, y continuamos el entrenamiento:"
      ]
    },
    {
      "cell_type": "code",
      "metadata": {
        "colab": {
          "base_uri": "https://localhost:8080/",
          "height": 80
        },
        "id": "GdAYwo8GdjIT",
        "outputId": "36217488-da0c-4713-a231-48e825032a8d"
      },
      "source": [
        "learn.freeze_to(-3)\n",
        "learn.fit_one_cycle(1, slice(5e-3/(2.6**4),5e-3))"
      ],
      "execution_count": null,
      "outputs": [
        {
          "output_type": "display_data",
          "data": {
            "text/html": [
              "<table border=\"1\" class=\"dataframe\">\n",
              "  <thead>\n",
              "    <tr style=\"text-align: left;\">\n",
              "      <th>epoch</th>\n",
              "      <th>train_loss</th>\n",
              "      <th>valid_loss</th>\n",
              "      <th>accuracy</th>\n",
              "      <th>time</th>\n",
              "    </tr>\n",
              "  </thead>\n",
              "  <tbody>\n",
              "    <tr>\n",
              "      <td>0</td>\n",
              "      <td>0.650433</td>\n",
              "      <td>0.220279</td>\n",
              "      <td>1.000000</td>\n",
              "      <td>00:07</td>\n",
              "    </tr>\n",
              "  </tbody>\n",
              "</table>"
            ],
            "text/plain": [
              "<IPython.core.display.HTML object>"
            ]
          },
          "metadata": {
            "tags": []
          }
        }
      ]
    },
    {
      "cell_type": "markdown",
      "metadata": {
        "id": "eAwmatQNQank"
      },
      "source": [
        "En este caso, hemos aumentado un poco la precisión, pero sigue habiendo el mismo subajuste que antes."
      ]
    },
    {
      "cell_type": "markdown",
      "metadata": {
        "id": "Vnsr4rMbQh02"
      },
      "source": [
        "Para terminar, descongelamos todas las capas y entrenamos por última vez, en este caso:"
      ]
    },
    {
      "cell_type": "code",
      "metadata": {
        "colab": {
          "base_uri": "https://localhost:8080/",
          "height": 111
        },
        "id": "1azsFcwfdjBB",
        "outputId": "798cf27d-c087-4812-9fa5-48190953b9a6"
      },
      "source": [
        "learn.unfreeze()\n",
        "learn.fit_one_cycle(2, slice(1e-3/(2.6**4),1e-3))"
      ],
      "execution_count": null,
      "outputs": [
        {
          "output_type": "display_data",
          "data": {
            "text/html": [
              "<table border=\"1\" class=\"dataframe\">\n",
              "  <thead>\n",
              "    <tr style=\"text-align: left;\">\n",
              "      <th>epoch</th>\n",
              "      <th>train_loss</th>\n",
              "      <th>valid_loss</th>\n",
              "      <th>accuracy</th>\n",
              "      <th>time</th>\n",
              "    </tr>\n",
              "  </thead>\n",
              "  <tbody>\n",
              "    <tr>\n",
              "      <td>0</td>\n",
              "      <td>0.588837</td>\n",
              "      <td>0.142127</td>\n",
              "      <td>1.000000</td>\n",
              "      <td>00:09</td>\n",
              "    </tr>\n",
              "    <tr>\n",
              "      <td>1</td>\n",
              "      <td>0.573432</td>\n",
              "      <td>0.099561</td>\n",
              "      <td>1.000000</td>\n",
              "      <td>00:09</td>\n",
              "    </tr>\n",
              "  </tbody>\n",
              "</table>"
            ],
            "text/plain": [
              "<IPython.core.display.HTML object>"
            ]
          },
          "metadata": {
            "tags": []
          }
        }
      ]
    },
    {
      "cell_type": "markdown",
      "metadata": {
        "id": "acb5xaFfS3AK"
      },
      "source": [
        "Con esto, nuestro modelo ya estaría completamente entrenado y listo para funcionar. Podemos ver, además, que su precisión teórica es del 100%. Sin embargo, el modelo sigue siendo mejorable por la diferencia existente entre su train_loss y su valid_loss."
      ]
    }
  ]
}